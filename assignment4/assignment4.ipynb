{
  "nbformat": 4,
  "nbformat_minor": 0,
  "metadata": {
    "colab": {
      "name": "assignment4",
      "provenance": []
    },
    "kernelspec": {
      "name": "python3",
      "display_name": "Python 3"
    }
  },
  "cells": [
    {
      "cell_type": "code",
      "metadata": {
        "id": "MNQu7VaoNhPh",
        "colab_type": "code",
        "colab": {}
      },
      "source": [
        "f = open(\"test.txt\",\"w\")\n",
        "f.write('''Hello everyone this is for assignment purpose is\n",
        "counting number of lines,words,letters''')\n",
        "f.close()\n",
        "\n"
      ],
      "execution_count": 0,
      "outputs": []
    },
    {
      "cell_type": "code",
      "metadata": {
        "id": "MkinY-mXPsV2",
        "colab_type": "code",
        "colab": {}
      },
      "source": [
        "f=open(\"name.txt\",\"w\")\n",
        "f.write(\"this file is for using remove function\")\n",
        "f.close()\n",
        "\n"
      ],
      "execution_count": 0,
      "outputs": []
    },
    {
      "cell_type": "code",
      "metadata": {
        "id": "aTxiAjU5QHqt",
        "colab_type": "code",
        "colab": {
          "base_uri": "https://localhost:8080/",
          "height": 68
        },
        "outputId": "f5ebed2b-985d-4ffa-c460-588ba4df6685"
      },
      "source": [
        "#Q1)Count the no.of words,no.of letters,no.of lines available in your file\n",
        "f=open(\"test.txt\",\"r\")\n",
        "data=f.read()\n",
        "words=data.split()\n",
        "l=data.split('\\n')\n",
        "print(\"words:\",len(words),\"\\nCharecters:\",len(data),\"\\nLines:\",len(l))\n"
      ],
      "execution_count": 8,
      "outputs": [
        {
          "output_type": "stream",
          "text": [
            "words: 12 \n",
            "Charecters: 87 \n",
            "Lines: 2\n"
          ],
          "name": "stdout"
        }
      ]
    },
    {
      "cell_type": "code",
      "metadata": {
        "id": "BEnQJF10QfKl",
        "colab_type": "code",
        "colab": {}
      },
      "source": [
        "#Q2)Copy the content of one file to another\n",
        "f=open(\"test.txt\")\n",
        "f1=open(\"output.txt\",\"a\")#a is for appending \n",
        "for line in f.readlines():\n",
        "    f1.write(line)\n",
        "f1.close()\n",
        "f.close()\n"
      ],
      "execution_count": 0,
      "outputs": []
    },
    {
      "cell_type": "markdown",
      "metadata": {
        "id": "PVU61fjWRQsj",
        "colab_type": "text"
      },
      "source": [
        "### Hello everyone this is for assignment purpose is\n",
        "### counting number of lines,words,letters\n",
        "### this will be displaye in \"output.txt\" file\n"
      ]
    },
    {
      "cell_type": "code",
      "metadata": {
        "id": "RqBX8MdiRmQd",
        "colab_type": "code",
        "colab": {
          "base_uri": "https://localhost:8080/",
          "height": 34
        },
        "outputId": "87cdf186-802c-4a46-f387-ea8fc60d2fc1"
      },
      "source": [
        "#Q3)Display the words starting with letter 'p'\n",
        "f=open(\"test.txt\",\"r\")\n",
        "data=f.read()\n",
        "c=0\n",
        "for i in data.split():\n",
        "    if i.startswith('p'):\n",
        "        c=c+1\n",
        "print(\"words starting with P:\",c)\n"
      ],
      "execution_count": 10,
      "outputs": [
        {
          "output_type": "stream",
          "text": [
            "words starting with P: 1\n"
          ],
          "name": "stdout"
        }
      ]
    },
    {
      "cell_type": "code",
      "metadata": {
        "id": "qx01OqiGRs3M",
        "colab_type": "code",
        "colab": {
          "base_uri": "https://localhost:8080/",
          "height": 51
        },
        "outputId": "cf26f26a-3152-4c35-fe04-a6eb0727debe"
      },
      "source": [
        "#Q4)Rename and remove files\n",
        "import os\n",
        "os.rename(\"test.txt\",\"tes1.txt\")\n",
        "print(\"File Renamed\")\n",
        "os.remove(\"name.txt\")\n",
        "print(\"File Removed!\")\n"
      ],
      "execution_count": 11,
      "outputs": [
        {
          "output_type": "stream",
          "text": [
            "File Renamed\n",
            "File Removed!\n"
          ],
          "name": "stdout"
        }
      ]
    },
    {
      "cell_type": "code",
      "metadata": {
        "id": "ne03_lZ0RxYK",
        "colab_type": "code",
        "colab": {}
      },
      "source": [
        ""
      ],
      "execution_count": 0,
      "outputs": []
    }
  ]
}