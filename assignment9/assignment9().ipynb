{
  "nbformat": 4,
  "nbformat_minor": 0,
  "metadata": {
    "colab": {
      "name": "assignment9.ipynb",
      "provenance": []
    },
    "kernelspec": {
      "name": "python3",
      "display_name": "Python 3"
    }
  },
  "cells": [
    {
      "cell_type": "markdown",
      "metadata": {
        "id": "xSPXJsTQE5sS",
        "colab_type": "text"
      },
      "source": [
        "##K.Naveen kumar\n",
        "221710313027"
      ]
    },
    {
      "cell_type": "code",
      "metadata": {
        "id": "k5Jb4imQFGUr",
        "colab_type": "code",
        "colab": {
          "base_uri": "https://localhost:8080/",
          "height": 136
        },
        "outputId": "ea14447e-8c06-4112-e441-8111e0f954ac"
      },
      "source": [
        "#1 Write a Python program to add, subtract, multiple and divide two Pandas Series. \n",
        "#Sample Series: [2, 9, 7, 7, 3], [1, 5, 5, 11, 9]\n",
        "#Sample Output:[2, , 7, 7, 3] + [1, 5, 5, 11, 9] = [3, 14, 12, 18, 12]\n",
        "\n",
        "import pandas as pd\n",
        "ds1 = pd.Series([2, 9, 7, 7, 3])\n",
        "ds2 = pd.Series([1, 5, 5, 11, 9])\n",
        "ds = ds1 + ds2\n",
        "print(\"Add two Series:\")\n",
        "print(ds)"
      ],
      "execution_count": 9,
      "outputs": [
        {
          "output_type": "stream",
          "text": [
            "Add two Series:\n",
            "0     3\n",
            "1    14\n",
            "2    12\n",
            "3    18\n",
            "4    12\n",
            "dtype: int64\n"
          ],
          "name": "stdout"
        }
      ]
    },
    {
      "cell_type": "code",
      "metadata": {
        "id": "yAK37aFmFyOu",
        "colab_type": "code",
        "colab": {
          "base_uri": "https://localhost:8080/",
          "height": 442
        },
        "outputId": "c678ff59-4936-4c20-f3fe-739413ae2967"
      },
      "source": [
        "\n",
        "#2Write a Pandas program to compute the minimum, 25th percentile, median, 75th, and maximum of a given series. \n",
        "#Sample Output:\n",
        "#Original Series:\n",
        "#0 3.000938 1 11.370722 2 14.612143 3 8.9902564 13.925283 5 12.056875.... 17 14.118931 18 8.247458 19 5.526727\n",
        "#dtype: float64\n",
        "#Minimum, 25th percentile, median, 75th, and maximum of a given series:\n",
        "#[ 3.00093811 8.09463867 10.23353705 12.21537733 14.61214321]\n",
        "\n",
        "import pandas as pd\n",
        "import numpy as np\n",
        "state = np.random.RandomState(100)\n",
        "series = pd.Series(state.normal(10, 4, 20))\n",
        "print(\"Original Series:\")\n",
        "print(series)\n",
        "result = np.percentile(series, q=[0, 25, 50, 75, 100])\n",
        "print(\"\\nMinimum, 25th percentile, median, 75th, and maximum of a given series:\")\n",
        "print(result)"
      ],
      "execution_count": 3,
      "outputs": [
        {
          "output_type": "stream",
          "text": [
            "Original Series:\n",
            "0      3.000938\n",
            "1     11.370722\n",
            "2     14.612143\n",
            "3      8.990256\n",
            "4     13.925283\n",
            "5     12.056875\n",
            "6     10.884719\n",
            "7      5.719827\n",
            "8      9.242017\n",
            "9     11.020006\n",
            "10     8.167892\n",
            "11    11.740654\n",
            "12     7.665620\n",
            "13    13.267388\n",
            "14    12.690883\n",
            "15     9.582355\n",
            "16     7.874878\n",
            "17    14.118931\n",
            "18     8.247458\n",
            "19     5.526727\n",
            "dtype: float64\n",
            "\n",
            "Minimum, 25th percentile, median, 75th, and maximum of a given series:\n",
            "[ 3.00093811  8.09463867 10.23353705 12.21537733 14.61214321]\n"
          ],
          "name": "stdout"
        }
      ]
    },
    {
      "cell_type": "markdown",
      "metadata": {
        "id": "hPrA9hw5GwoS",
        "colab_type": "text"
      },
      "source": [
        "#3\n",
        "Write a Pandas program to get the items of a given series not present in another given series. \n",
        "Sample Output:\n",
        "Original Series:\n",
        "sr1:\n",
        "0 1\n",
        "1 2\n",
        "2 3\n",
        "3 4\n",
        "4 5\n",
        "dtype: int64\n",
        "sr2:\n",
        "0 2\n",
        "1 4\n",
        "2 6\n",
        "3 8\n",
        "4 10\n",
        "dtype: int64\n",
        "Items of sr1 not present in sr2:\n",
        "0 1\n",
        "2 3\n",
        "4 5\n",
        "dtype: int64\n"
      ]
    },
    {
      "cell_type": "code",
      "metadata": {
        "id": "u5V-2VojGo6l",
        "colab_type": "code",
        "colab": {
          "base_uri": "https://localhost:8080/",
          "height": 374
        },
        "outputId": "41cce51f-90f7-4d28-96c5-30df355e625e"
      },
      "source": [
        "import pandas as pd\n",
        "sr1 = pd.Series([1, 2, 3, 4, 5])\n",
        "sr2 = pd.Series([2, 4, 6, 8, 10])\n",
        "print(\"Original Series:\")\n",
        "print(\"sr1:\")\n",
        "print(sr1)\n",
        "print(\"sr2:\")\n",
        "print(sr2)\n",
        "print(\"\\nItems of sr1 not present in sr2:\")\n",
        "result = sr1[~sr1.isin(sr2)]\n",
        "print(result)"
      ],
      "execution_count": 4,
      "outputs": [
        {
          "output_type": "stream",
          "text": [
            "Original Series:\n",
            "sr1:\n",
            "0    1\n",
            "1    2\n",
            "2    3\n",
            "3    4\n",
            "4    5\n",
            "dtype: int64\n",
            "sr2:\n",
            "0     2\n",
            "1     4\n",
            "2     6\n",
            "3     8\n",
            "4    10\n",
            "dtype: int64\n",
            "\n",
            "Items of sr1 not present in sr2:\n",
            "0    1\n",
            "2    3\n",
            "4    5\n",
            "dtype: int64\n"
          ],
          "name": "stdout"
        }
      ]
    },
    {
      "cell_type": "markdown",
      "metadata": {
        "id": "_rQh5vdcHyi1",
        "colab_type": "text"
      },
      "source": [
        "#4\n",
        "Write a Pandas program to filter words from a given series that contain at least two vowels. \n",
        "Sample Output:\n",
        "Original Series:\n",
        "0 Red\n",
        "1 Green\n",
        "2 Orange\n",
        "3 Pink\n",
        "4 Yellow\n",
        "5 White\n",
        "dtype: object\n",
        "\n",
        "Filtered words:\n",
        "1 Green\n",
        "2 Orange\n",
        "4 Yellow\n",
        "5 White\n",
        "dtype: object\n",
        "\n"
      ]
    },
    {
      "cell_type": "code",
      "metadata": {
        "id": "d8TNbhCPHrh5",
        "colab_type": "code",
        "colab": {
          "base_uri": "https://localhost:8080/",
          "height": 272
        },
        "outputId": "65db2444-052c-4140-a61a-07091c1f82e4"
      },
      "source": [
        "import pandas as pd\n",
        "from collections import Counter\n",
        "color_series = pd.Series(['Red', 'Green', 'Orange', 'Pink', 'Yellow', 'White'])\n",
        "print(\"Original Series:\")\n",
        "print(color_series)\n",
        "print(\"\\nFiltered words:\")\n",
        "result = mask = color_series.map(lambda c: sum([Counter(c.lower()).get(i, 0) for i in list('aeiou')]) >= 2)\n",
        "print(color_series[result])"
      ],
      "execution_count": 5,
      "outputs": [
        {
          "output_type": "stream",
          "text": [
            "Original Series:\n",
            "0       Red\n",
            "1     Green\n",
            "2    Orange\n",
            "3      Pink\n",
            "4    Yellow\n",
            "5     White\n",
            "dtype: object\n",
            "\n",
            "Filtered words:\n",
            "1     Green\n",
            "2    Orange\n",
            "4    Yellow\n",
            "5     White\n",
            "dtype: object\n"
          ],
          "name": "stdout"
        }
      ]
    },
    {
      "cell_type": "markdown",
      "metadata": {
        "id": "Y9jYIdDEIQ_0",
        "colab_type": "text"
      },
      "source": [
        "#5\n",
        "Consider the following as my DataFrame,Write a Pandas program to select the rows where the number of attempts in the examination is greater than 2."
      ]
    },
    {
      "cell_type": "code",
      "metadata": {
        "id": "7c1u9TobIU0S",
        "colab_type": "code",
        "colab": {
          "base_uri": "https://localhost:8080/",
          "height": 221
        },
        "outputId": "edfbcc57-ef48-45aa-b518-cd46da5911b2"
      },
      "source": [
        "import pandas as pd\n",
        "import numpy as np\n",
        "exam_data  = {'name': ['rekha', 'hema', 'jaya', 'James', 'sushma', 'Mike', 'Matthew', 'Laura', 'Kevin', 'John'],\n",
        "        'score': [12.5, 9, 16.5, np.nan, 9, 20, 14.5, np.nan, 8, 19],\n",
        "        'attempts': [2, 3, 2, 3, 2, 5, 1, 1, 2, 1],\n",
        "        'qualify': ['yes', 'no', 'yes', 'no', 'no', 'yes', 'yes', 'no', 'no', 'yes']}\n",
        "labels = ['a', 'b', 'c', 'd', 'e', 'f', 'g', 'h', 'i', 'j']\n",
        "df = pd.DataFrame(exam_data , index=labels)\n",
        "print(\"Number of attempts in the examination is greater than 2\")\n",
        "print(df['attempts'] > 2)"
      ],
      "execution_count": 6,
      "outputs": [
        {
          "output_type": "stream",
          "text": [
            "Number of attempts in the examination is greater than 2\n",
            "a    False\n",
            "b     True\n",
            "c    False\n",
            "d     True\n",
            "e    False\n",
            "f     True\n",
            "g    False\n",
            "h    False\n",
            "i    False\n",
            "j    False\n",
            "Name: attempts, dtype: bool\n"
          ],
          "name": "stdout"
        }
      ]
    },
    {
      "cell_type": "code",
      "metadata": {
        "id": "sGfOBDXyWfg4",
        "colab_type": "code",
        "colab": {}
      },
      "source": [
        ""
      ],
      "execution_count": 0,
      "outputs": []
    }
  ]
}