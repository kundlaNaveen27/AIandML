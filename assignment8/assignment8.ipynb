{
  "nbformat": 4,
  "nbformat_minor": 0,
  "metadata": {
    "colab": {
      "name": "assignment8.ipynb",
      "provenance": []
    },
    "kernelspec": {
      "name": "python3",
      "display_name": "Python 3"
    }
  },
  "cells": [
    {
      "cell_type": "code",
      "metadata": {
        "id": "JvNGj6PVxyWq",
        "colab_type": "code",
        "colab": {
          "base_uri": "https://localhost:8080/",
          "height": 119
        },
        "outputId": "358b36b2-3a21-4e5c-cc70-c81070b99311"
      },
      "source": [
        "#1.\n",
        "import numpy as np\n",
        "import numpy as np\n",
        "x = np.arange(12, 38)\n",
        "print(\"Original array:\")\n",
        "print(x)\n",
        "print(\"Reverse array:\")\n",
        "x = x[::-1]\n",
        "print(x)\n"
      ],
      "execution_count": 1,
      "outputs": [
        {
          "output_type": "stream",
          "text": [
            "Original array:\n",
            "[12 13 14 15 16 17 18 19 20 21 22 23 24 25 26 27 28 29 30 31 32 33 34 35\n",
            " 36 37]\n",
            "Reverse array:\n",
            "[37 36 35 34 33 32 31 30 29 28 27 26 25 24 23 22 21 20 19 18 17 16 15 14\n",
            " 13 12]\n"
          ],
          "name": "stdout"
        }
      ]
    },
    {
      "cell_type": "code",
      "metadata": {
        "id": "tps4LF47yoJn",
        "colab_type": "code",
        "colab": {
          "base_uri": "https://localhost:8080/",
          "height": 221
        },
        "outputId": "9ca3eccd-3ad8-4039-e72f-675ea48adea9"
      },
      "source": [
        "#2.\n",
        "import numpy as np\n",
        "x = np.ones((5,5))\n",
        "print(\"Original array:\")\n",
        "print(x)\n",
        "print(\"1 on the border and 0 inside in the array\")\n",
        "x[1:-1,1:-1] = 0\n",
        "print(x)\n"
      ],
      "execution_count": 2,
      "outputs": [
        {
          "output_type": "stream",
          "text": [
            "Original array:\n",
            "[[1. 1. 1. 1. 1.]\n",
            " [1. 1. 1. 1. 1.]\n",
            " [1. 1. 1. 1. 1.]\n",
            " [1. 1. 1. 1. 1.]\n",
            " [1. 1. 1. 1. 1.]]\n",
            "1 on the border and 0 inside in the array\n",
            "[[1. 1. 1. 1. 1.]\n",
            " [1. 0. 0. 0. 1.]\n",
            " [1. 0. 0. 0. 1.]\n",
            " [1. 0. 0. 0. 1.]\n",
            " [1. 1. 1. 1. 1.]]\n"
          ],
          "name": "stdout"
        }
      ]
    },
    {
      "cell_type": "code",
      "metadata": {
        "id": "ySVAbMteyvLk",
        "colab_type": "code",
        "colab": {
          "base_uri": "https://localhost:8080/",
          "height": 85
        },
        "outputId": "17276ffa-9e47-418f-b348-c0da814bd60a"
      },
      "source": [
        "#3.\n",
        "import numpy as np\n",
        "a1 = np.array([0, 10, 20, 40, 60])\n",
        "print(\"Array1: \",a1)\n",
        "a2 = [0, 40]\n",
        "print(\"Array2: \",a2)\n",
        "print(\"Compare each element of array1 and array2\")\n",
        "print(np.in1d(a1, a2))\n"
      ],
      "execution_count": 3,
      "outputs": [
        {
          "output_type": "stream",
          "text": [
            "Array1:  [ 0 10 20 40 60]\n",
            "Array2:  [0, 40]\n",
            "Compare each element of array1 and array2\n",
            "[ True False False  True False]\n"
          ],
          "name": "stdout"
        }
      ]
    },
    {
      "cell_type": "code",
      "metadata": {
        "id": "mvdGQ3Vyy0DO",
        "colab_type": "code",
        "colab": {
          "base_uri": "https://localhost:8080/",
          "height": 85
        },
        "outputId": "ea3d4af8-ee02-43cb-bbca-c5f2751b5c40"
      },
      "source": [
        "#4.\n",
        "import numpy as np\n",
        "a1 = np.array([0, 10, 20, 40, 60, 80])\n",
        "print(\"Array1: \",a1)\n",
        "a2 = [10, 30, 40, 50, 70]\n",
        "print(\"Array2: \",a2)\n",
        "print(\"Unique values in array1 that are not in array2:\")\n",
        "print(np.setdiff1d(a1, a2))\n"
      ],
      "execution_count": 4,
      "outputs": [
        {
          "output_type": "stream",
          "text": [
            "Array1:  [ 0 10 20 40 60 80]\n",
            "Array2:  [10, 30, 40, 50, 70]\n",
            "Unique values in array1 that are not in array2:\n",
            "[ 0 20 60 80]\n"
          ],
          "name": "stdout"
        }
      ]
    },
    {
      "cell_type": "code",
      "metadata": {
        "id": "WIFBsaEwy5ge",
        "colab_type": "code",
        "colab": {
          "base_uri": "https://localhost:8080/",
          "height": 85
        },
        "outputId": "b9c36d76-c8de-4fc8-c045-4b6f3092368d"
      },
      "source": [
        "#5.\n",
        "import numpy as np\n",
        "x =  np.diagflat([4, 5, 6, 8])\n",
        "print(x)\n",
        "\n"
      ],
      "execution_count": 5,
      "outputs": [
        {
          "output_type": "stream",
          "text": [
            "[[4 0 0 0]\n",
            " [0 5 0 0]\n",
            " [0 0 6 0]\n",
            " [0 0 0 8]]\n"
          ],
          "name": "stdout"
        }
      ]
    },
    {
      "cell_type": "code",
      "metadata": {
        "id": "fg0CTzb5y_5_",
        "colab_type": "code",
        "colab": {}
      },
      "source": [
        ""
      ],
      "execution_count": 0,
      "outputs": []
    }
  ]
}