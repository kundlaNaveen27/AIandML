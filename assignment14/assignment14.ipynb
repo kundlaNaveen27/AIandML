{
  "nbformat": 4,
  "nbformat_minor": 0,
  "metadata": {
    "colab": {
      "name": "assignment14.ipynb",
      "provenance": []
    },
    "kernelspec": {
      "name": "python3",
      "display_name": "Python 3"
    }
  },
  "cells": [
    {
      "cell_type": "markdown",
      "metadata": {
        "id": "i_ywbPZ73yAg",
        "colab_type": "text"
      },
      "source": [
        "K.Naveen kumar\n",
        "221710313027"
      ]
    },
    {
      "cell_type": "markdown",
      "metadata": {
        "id": "gEDvsMyR36Kz",
        "colab_type": "text"
      },
      "source": [
        "Question 1: https://www.codechef.com/problems/RECNDSTR Chef has a string $S$ consisting of lowercase English characters. Chef defined functions left shift $L(X)$ and right shift $R(X)$ as follows. $L(X)$ is defined as shifting all characters of string $X$ one step towards the left and moving the first character to the end. $R(X)$ is defined as shifting all characters of string $X$ one step towards the right and moving the last character to the beginning. For example, L(\"abcd\") = \"bcda\" and R(\"abcd\") = \"dabc\" Chef wants to find out whether there exists a string $V$ of the same length as $S$ such that both $L(V) = S$ and $R(V) = S$ holds.\n",
        "\n",
        "Input: The first line of the input contains a single integer $T$ denoting the number of test cases. The description of $T$ test cases follows. The first line of each test case contains a string $S$. Output: For each test case, If there exists a valid string $V$, print \"YES\", otherwise print \"NO\" (without the quotes). Sample Input: 4 a ab abcd aaaaa Sample Output: YES YES NO YES"
      ]
    },
    {
      "cell_type": "code",
      "metadata": {
        "id": "HWeEjUPY2JEj",
        "colab_type": "code",
        "outputId": "f03e488c-ee89-4636-9f87-342e67e05efe",
        "colab": {
          "base_uri": "https://localhost:8080/",
          "height": 170
        }
      },
      "source": [
        "def L(x):\n",
        "    return x[1:]+x[0]\n",
        "def R(x):\n",
        "    return x[len(x)-1]+x[0:len(x)-1]\n",
        "t=int(input())\n",
        "list1=[input() for i in range(t)]\n",
        "for i in list1:\n",
        "    print(\"YES\") if L(i) == R(i) else print(\"NO\")"
      ],
      "execution_count": 0,
      "outputs": [
        {
          "output_type": "stream",
          "text": [
            "4\n",
            "ab\n",
            "a\n",
            "aaaa\n",
            "abxd\n",
            "YES\n",
            "YES\n",
            "YES\n",
            "NO\n"
          ],
          "name": "stdout"
        }
      ]
    },
    {
      "cell_type": "markdown",
      "metadata": {
        "id": "nbY47kGD5P1X",
        "colab_type": "text"
      },
      "source": [
        "Question 2: https://www.hackerrank.com/challenges/beautiful-days-at-the-movies/problem"
      ]
    },
    {
      "cell_type": "code",
      "metadata": {
        "id": "ahNALqXG4AMu",
        "colab_type": "code",
        "outputId": "1a78e5a0-786d-4665-cb47-e0f89d74a109",
        "colab": {
          "base_uri": "https://localhost:8080/",
          "height": 51
        }
      },
      "source": [
        "i,j,k=map(int,input().split())\n",
        "c=0\n",
        "for n in range(i,j+1):\n",
        "    if((n-int(str(n)[::-1]))%2==0):\n",
        "        c+=1\n",
        "print(c)"
      ],
      "execution_count": 0,
      "outputs": [
        {
          "output_type": "stream",
          "text": [
            "20 27 9\n",
            "4\n"
          ],
          "name": "stdout"
        }
      ]
    },
    {
      "cell_type": "markdown",
      "metadata": {
        "id": "6nTG51F06U-K",
        "colab_type": "text"
      },
      "source": [
        "Question 3: https://www.hackerrank.com/challenges/birthday-cake-candles/problem"
      ]
    },
    {
      "cell_type": "code",
      "metadata": {
        "id": "5sYzFQ0b5WM-",
        "colab_type": "code",
        "colab": {
          "base_uri": "https://localhost:8080/",
          "height": 68
        },
        "outputId": "759cf933-269a-42fd-82b1-dc3b72e94788"
      },
      "source": [
        "n=int(input())\n",
        "a=list(map(int,input().split()))\n",
        "print(a.count(max(a)))"
      ],
      "execution_count": 5,
      "outputs": [
        {
          "output_type": "stream",
          "text": [
            "4\n",
            "2 1 2 3\n",
            "1\n"
          ],
          "name": "stdout"
        }
      ]
    },
    {
      "cell_type": "markdown",
      "metadata": {
        "id": "kCTC7DUY7DeW",
        "colab_type": "text"
      },
      "source": [
        "Question 4: (InfyTQ) Consider a non-empty array inarr containing non-zero positive single digit integers separated by “,” (comma).Print a string based on the below logic: From all possible unique three digit number combinations with the elements of inarr Identify the maximum number maxnum among the three digit combinations formed. Print the maxnum followed by the total number of unique digit combinations formed,separating them with a “,” (comma) Assumption: inarr will contain at least 3 elements Note : An element present at a particular index should not be considered more than once while forming a combination. Input format: Read the array inarr from the standard input stream Output format: Print the output to the standard output stream\n",
        "\n",
        "Sample Input : 1,2,1 Sample Output: 211,3\n",
        "\n",
        "Sample Input:1,2,1,4 Sample output:4211,12"
      ]
    },
    {
      "cell_type": "code",
      "metadata": {
        "id": "bpD_SvSy6dbI",
        "colab_type": "code",
        "colab": {
          "base_uri": "https://localhost:8080/",
          "height": 51
        },
        "outputId": "183c5fe3-35f2-4c11-d7d2-599a3cdb0899"
      },
      "source": [
        "import itertools as it\n",
        "a=list(map(str,input().split(',')))\n",
        "p = it.permutations(a, 3)\n",
        "x = list(set(p))               \n",
        "l = []\n",
        "for i in x:                          \n",
        "    p = ''.join(i)                   \n",
        "    l.append(int(p))\n",
        "l.sort()\n",
        "print(str(l[-1])+','+str(len(l)))"
      ],
      "execution_count": 1,
      "outputs": [
        {
          "output_type": "stream",
          "text": [
            "1,2,1\n",
            "211,3\n"
          ],
          "name": "stdout"
        }
      ]
    },
    {
      "cell_type": "markdown",
      "metadata": {
        "id": "B9YGYoB_7X5W",
        "colab_type": "text"
      },
      "source": [
        "Question 5:(InfyTQ) For a given positive number num,identify the palindrome formed by performing the following operations Add num and its reverse Check whether the sum is palindrome or not.If not,add the sum and its reverse and repeat the process until a palindrome is obtained. Input format : Read num from the standard input stream Output format: print the palindrome calculated to the standard output stream\n",
        "\n",
        "Sample input : 124 Sample Output : 545\n",
        "\n",
        "Sample input:195 Sample output: 9339"
      ]
    },
    {
      "cell_type": "code",
      "metadata": {
        "id": "c8g3s32U7IiQ",
        "colab_type": "code",
        "colab": {
          "base_uri": "https://localhost:8080/",
          "height": 51
        },
        "outputId": "2e232af9-d55e-4dcd-cccc-2d0ab2a2002c"
      },
      "source": [
        "n=int(input())\n",
        "while(True):\n",
        "    n=str(n)\n",
        "    if(n ==n[::-1]):\n",
        "        print(n)\n",
        "        break\n",
        "    else:\n",
        "        n=int(n)+int(n[::-1])"
      ],
      "execution_count": 1,
      "outputs": [
        {
          "output_type": "stream",
          "text": [
            "195\n",
            "9339\n"
          ],
          "name": "stdout"
        }
      ]
    },
    {
      "cell_type": "markdown",
      "metadata": {
        "id": "dd0feKtK7izf",
        "colab_type": "text"
      },
      "source": [
        "Question 6: https://www.codechef.com/problems/SLAEL Find the length of the longest contiguous segment in an array, in which if a given element K K is inserted, K K becomes the second largest element of that subarray. Input: The first line will contain T, number of test cases. Then the test cases follow. The first line of each test case contains two integers N and K The next line contains N space-separated integers Ai denoting the elements of the array. Output: Print a single line corresponding to each test case — the length of the largest segment."
      ]
    },
    {
      "cell_type": "code",
      "metadata": {
        "id": "lDyGBArA82fc",
        "colab_type": "code",
        "colab": {
          "base_uri": "https://localhost:8080/",
          "height": 138
        },
        "outputId": "761f8140-b420-4cba-f095-6e90ff58efb3"
      },
      "source": [
        "t=int(input())\n",
        "while(t>0):\n",
        "    n,k=map(int,input().split())\n",
        "    a=list(map(int,input().split()))\n",
        "    gre=0\n",
        "    l=0\n",
        "    pos=-1\n",
        "    long=0\n",
        "    for i in range(n):\n",
        "        if a[i]>k and gre!=0 and a[i]!=gre:\n",
        "            gre = a[i]\n",
        "            if long<l:\n",
        "                long=l\n",
        "            l = i - pos\n",
        "            pos=i\n",
        "            continue\n",
        "        elif a[i]>k:\n",
        "            gre = a[i]\n",
        "            pos=i\n",
        "        l+=1\n",
        "    if long<l:\n",
        "        long=l\n",
        "    t-=1\n",
        "    print(\"output:\\n\",long,\"\\n\")"
      ],
      "execution_count": 0,
      "outputs": [
        {
          "output_type": "stream",
          "text": [
            "2\n",
            "5 3\n",
            "2 4 2 4 2\n",
            "output:\n",
            " 5 \n",
            "\n"
          ],
          "name": "stdout"
        }
      ]
    },
    {
      "cell_type": "code",
      "metadata": {
        "id": "Xm1rVe-y83RY",
        "colab_type": "code",
        "colab": {}
      },
      "source": [
        ""
      ],
      "execution_count": 0,
      "outputs": []
    }
  ]
}