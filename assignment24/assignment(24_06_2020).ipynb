{
  "nbformat": 4,
  "nbformat_minor": 0,
  "metadata": {
    "colab": {
      "name": "assignment(24-06-2020).ipynb",
      "provenance": []
    },
    "kernelspec": {
      "name": "python3",
      "display_name": "Python 3"
    }
  },
  "cells": [
    {
      "cell_type": "code",
      "metadata": {
        "id": "x-dbE4hmzOUE",
        "colab_type": "code",
        "colab": {
          "base_uri": "https://localhost:8080/",
          "height": 71
        },
        "outputId": "797f9bc1-d3a1-4152-9cec-235ae0d19958"
      },
      "source": [
        "import numpy as np\n",
        "import pandas as pd\n",
        "import matplotlib.pyplot as plt\n",
        "import seaborn as sns"
      ],
      "execution_count": 1,
      "outputs": [
        {
          "output_type": "stream",
          "text": [
            "/usr/local/lib/python3.6/dist-packages/statsmodels/tools/_testing.py:19: FutureWarning: pandas.util.testing is deprecated. Use the functions in the public API at pandas.testing instead.\n",
            "  import pandas.util.testing as tm\n"
          ],
          "name": "stderr"
        }
      ]
    },
    {
      "cell_type": "code",
      "metadata": {
        "id": "gtYzlYIPzSYB",
        "colab_type": "code",
        "colab": {}
      },
      "source": [
        "from sklearn.datasets import load_boston\n",
        "boston=load_boston()"
      ],
      "execution_count": 2,
      "outputs": []
    },
    {
      "cell_type": "code",
      "metadata": {
        "id": "QpV6rKUIzboI",
        "colab_type": "code",
        "colab": {
          "base_uri": "https://localhost:8080/",
          "height": 1000
        },
        "outputId": "6f40b7f3-be69-4f31-d908-4e4b1609622e"
      },
      "source": [
        "boston"
      ],
      "execution_count": 3,
      "outputs": [
        {
          "output_type": "execute_result",
          "data": {
            "text/plain": [
              "{'DESCR': \".. _boston_dataset:\\n\\nBoston house prices dataset\\n---------------------------\\n\\n**Data Set Characteristics:**  \\n\\n    :Number of Instances: 506 \\n\\n    :Number of Attributes: 13 numeric/categorical predictive. Median Value (attribute 14) is usually the target.\\n\\n    :Attribute Information (in order):\\n        - CRIM     per capita crime rate by town\\n        - ZN       proportion of residential land zoned for lots over 25,000 sq.ft.\\n        - INDUS    proportion of non-retail business acres per town\\n        - CHAS     Charles River dummy variable (= 1 if tract bounds river; 0 otherwise)\\n        - NOX      nitric oxides concentration (parts per 10 million)\\n        - RM       average number of rooms per dwelling\\n        - AGE      proportion of owner-occupied units built prior to 1940\\n        - DIS      weighted distances to five Boston employment centres\\n        - RAD      index of accessibility to radial highways\\n        - TAX      full-value property-tax rate per $10,000\\n        - PTRATIO  pupil-teacher ratio by town\\n        - B        1000(Bk - 0.63)^2 where Bk is the proportion of blacks by town\\n        - LSTAT    % lower status of the population\\n        - MEDV     Median value of owner-occupied homes in $1000's\\n\\n    :Missing Attribute Values: None\\n\\n    :Creator: Harrison, D. and Rubinfeld, D.L.\\n\\nThis is a copy of UCI ML housing dataset.\\nhttps://archive.ics.uci.edu/ml/machine-learning-databases/housing/\\n\\n\\nThis dataset was taken from the StatLib library which is maintained at Carnegie Mellon University.\\n\\nThe Boston house-price data of Harrison, D. and Rubinfeld, D.L. 'Hedonic\\nprices and the demand for clean air', J. Environ. Economics & Management,\\nvol.5, 81-102, 1978.   Used in Belsley, Kuh & Welsch, 'Regression diagnostics\\n...', Wiley, 1980.   N.B. Various transformations are used in the table on\\npages 244-261 of the latter.\\n\\nThe Boston house-price data has been used in many machine learning papers that address regression\\nproblems.   \\n     \\n.. topic:: References\\n\\n   - Belsley, Kuh & Welsch, 'Regression diagnostics: Identifying Influential Data and Sources of Collinearity', Wiley, 1980. 244-261.\\n   - Quinlan,R. (1993). Combining Instance-Based and Model-Based Learning. In Proceedings on the Tenth International Conference of Machine Learning, 236-243, University of Massachusetts, Amherst. Morgan Kaufmann.\\n\",\n",
              " 'data': array([[6.3200e-03, 1.8000e+01, 2.3100e+00, ..., 1.5300e+01, 3.9690e+02,\n",
              "         4.9800e+00],\n",
              "        [2.7310e-02, 0.0000e+00, 7.0700e+00, ..., 1.7800e+01, 3.9690e+02,\n",
              "         9.1400e+00],\n",
              "        [2.7290e-02, 0.0000e+00, 7.0700e+00, ..., 1.7800e+01, 3.9283e+02,\n",
              "         4.0300e+00],\n",
              "        ...,\n",
              "        [6.0760e-02, 0.0000e+00, 1.1930e+01, ..., 2.1000e+01, 3.9690e+02,\n",
              "         5.6400e+00],\n",
              "        [1.0959e-01, 0.0000e+00, 1.1930e+01, ..., 2.1000e+01, 3.9345e+02,\n",
              "         6.4800e+00],\n",
              "        [4.7410e-02, 0.0000e+00, 1.1930e+01, ..., 2.1000e+01, 3.9690e+02,\n",
              "         7.8800e+00]]),\n",
              " 'feature_names': array(['CRIM', 'ZN', 'INDUS', 'CHAS', 'NOX', 'RM', 'AGE', 'DIS', 'RAD',\n",
              "        'TAX', 'PTRATIO', 'B', 'LSTAT'], dtype='<U7'),\n",
              " 'filename': '/usr/local/lib/python3.6/dist-packages/sklearn/datasets/data/boston_house_prices.csv',\n",
              " 'target': array([24. , 21.6, 34.7, 33.4, 36.2, 28.7, 22.9, 27.1, 16.5, 18.9, 15. ,\n",
              "        18.9, 21.7, 20.4, 18.2, 19.9, 23.1, 17.5, 20.2, 18.2, 13.6, 19.6,\n",
              "        15.2, 14.5, 15.6, 13.9, 16.6, 14.8, 18.4, 21. , 12.7, 14.5, 13.2,\n",
              "        13.1, 13.5, 18.9, 20. , 21. , 24.7, 30.8, 34.9, 26.6, 25.3, 24.7,\n",
              "        21.2, 19.3, 20. , 16.6, 14.4, 19.4, 19.7, 20.5, 25. , 23.4, 18.9,\n",
              "        35.4, 24.7, 31.6, 23.3, 19.6, 18.7, 16. , 22.2, 25. , 33. , 23.5,\n",
              "        19.4, 22. , 17.4, 20.9, 24.2, 21.7, 22.8, 23.4, 24.1, 21.4, 20. ,\n",
              "        20.8, 21.2, 20.3, 28. , 23.9, 24.8, 22.9, 23.9, 26.6, 22.5, 22.2,\n",
              "        23.6, 28.7, 22.6, 22. , 22.9, 25. , 20.6, 28.4, 21.4, 38.7, 43.8,\n",
              "        33.2, 27.5, 26.5, 18.6, 19.3, 20.1, 19.5, 19.5, 20.4, 19.8, 19.4,\n",
              "        21.7, 22.8, 18.8, 18.7, 18.5, 18.3, 21.2, 19.2, 20.4, 19.3, 22. ,\n",
              "        20.3, 20.5, 17.3, 18.8, 21.4, 15.7, 16.2, 18. , 14.3, 19.2, 19.6,\n",
              "        23. , 18.4, 15.6, 18.1, 17.4, 17.1, 13.3, 17.8, 14. , 14.4, 13.4,\n",
              "        15.6, 11.8, 13.8, 15.6, 14.6, 17.8, 15.4, 21.5, 19.6, 15.3, 19.4,\n",
              "        17. , 15.6, 13.1, 41.3, 24.3, 23.3, 27. , 50. , 50. , 50. , 22.7,\n",
              "        25. , 50. , 23.8, 23.8, 22.3, 17.4, 19.1, 23.1, 23.6, 22.6, 29.4,\n",
              "        23.2, 24.6, 29.9, 37.2, 39.8, 36.2, 37.9, 32.5, 26.4, 29.6, 50. ,\n",
              "        32. , 29.8, 34.9, 37. , 30.5, 36.4, 31.1, 29.1, 50. , 33.3, 30.3,\n",
              "        34.6, 34.9, 32.9, 24.1, 42.3, 48.5, 50. , 22.6, 24.4, 22.5, 24.4,\n",
              "        20. , 21.7, 19.3, 22.4, 28.1, 23.7, 25. , 23.3, 28.7, 21.5, 23. ,\n",
              "        26.7, 21.7, 27.5, 30.1, 44.8, 50. , 37.6, 31.6, 46.7, 31.5, 24.3,\n",
              "        31.7, 41.7, 48.3, 29. , 24. , 25.1, 31.5, 23.7, 23.3, 22. , 20.1,\n",
              "        22.2, 23.7, 17.6, 18.5, 24.3, 20.5, 24.5, 26.2, 24.4, 24.8, 29.6,\n",
              "        42.8, 21.9, 20.9, 44. , 50. , 36. , 30.1, 33.8, 43.1, 48.8, 31. ,\n",
              "        36.5, 22.8, 30.7, 50. , 43.5, 20.7, 21.1, 25.2, 24.4, 35.2, 32.4,\n",
              "        32. , 33.2, 33.1, 29.1, 35.1, 45.4, 35.4, 46. , 50. , 32.2, 22. ,\n",
              "        20.1, 23.2, 22.3, 24.8, 28.5, 37.3, 27.9, 23.9, 21.7, 28.6, 27.1,\n",
              "        20.3, 22.5, 29. , 24.8, 22. , 26.4, 33.1, 36.1, 28.4, 33.4, 28.2,\n",
              "        22.8, 20.3, 16.1, 22.1, 19.4, 21.6, 23.8, 16.2, 17.8, 19.8, 23.1,\n",
              "        21. , 23.8, 23.1, 20.4, 18.5, 25. , 24.6, 23. , 22.2, 19.3, 22.6,\n",
              "        19.8, 17.1, 19.4, 22.2, 20.7, 21.1, 19.5, 18.5, 20.6, 19. , 18.7,\n",
              "        32.7, 16.5, 23.9, 31.2, 17.5, 17.2, 23.1, 24.5, 26.6, 22.9, 24.1,\n",
              "        18.6, 30.1, 18.2, 20.6, 17.8, 21.7, 22.7, 22.6, 25. , 19.9, 20.8,\n",
              "        16.8, 21.9, 27.5, 21.9, 23.1, 50. , 50. , 50. , 50. , 50. , 13.8,\n",
              "        13.8, 15. , 13.9, 13.3, 13.1, 10.2, 10.4, 10.9, 11.3, 12.3,  8.8,\n",
              "         7.2, 10.5,  7.4, 10.2, 11.5, 15.1, 23.2,  9.7, 13.8, 12.7, 13.1,\n",
              "        12.5,  8.5,  5. ,  6.3,  5.6,  7.2, 12.1,  8.3,  8.5,  5. , 11.9,\n",
              "        27.9, 17.2, 27.5, 15. , 17.2, 17.9, 16.3,  7. ,  7.2,  7.5, 10.4,\n",
              "         8.8,  8.4, 16.7, 14.2, 20.8, 13.4, 11.7,  8.3, 10.2, 10.9, 11. ,\n",
              "         9.5, 14.5, 14.1, 16.1, 14.3, 11.7, 13.4,  9.6,  8.7,  8.4, 12.8,\n",
              "        10.5, 17.1, 18.4, 15.4, 10.8, 11.8, 14.9, 12.6, 14.1, 13. , 13.4,\n",
              "        15.2, 16.1, 17.8, 14.9, 14.1, 12.7, 13.5, 14.9, 20. , 16.4, 17.7,\n",
              "        19.5, 20.2, 21.4, 19.9, 19. , 19.1, 19.1, 20.1, 19.9, 19.6, 23.2,\n",
              "        29.8, 13.8, 13.3, 16.7, 12. , 14.6, 21.4, 23. , 23.7, 25. , 21.8,\n",
              "        20.6, 21.2, 19.1, 20.6, 15.2,  7. ,  8.1, 13.6, 20.1, 21.8, 24.5,\n",
              "        23.1, 19.7, 18.3, 21.2, 17.5, 16.8, 22.4, 20.6, 23.9, 22. , 11.9])}"
            ]
          },
          "metadata": {
            "tags": []
          },
          "execution_count": 3
        }
      ]
    },
    {
      "cell_type": "code",
      "metadata": {
        "id": "dSSdJe3-zd5I",
        "colab_type": "code",
        "colab": {
          "base_uri": "https://localhost:8080/",
          "height": 34
        },
        "outputId": "62a8414a-5770-409c-c825-4e61598d3fa7"
      },
      "source": [
        "boston.keys()"
      ],
      "execution_count": 4,
      "outputs": [
        {
          "output_type": "execute_result",
          "data": {
            "text/plain": [
              "dict_keys(['data', 'target', 'feature_names', 'DESCR', 'filename'])"
            ]
          },
          "metadata": {
            "tags": []
          },
          "execution_count": 4
        }
      ]
    },
    {
      "cell_type": "code",
      "metadata": {
        "id": "zkFINAtuzjKn",
        "colab_type": "code",
        "colab": {
          "base_uri": "https://localhost:8080/",
          "height": 238
        },
        "outputId": "56a03324-e10b-4389-8d2a-3bde275e3e0b"
      },
      "source": [
        "boston.data"
      ],
      "execution_count": 5,
      "outputs": [
        {
          "output_type": "execute_result",
          "data": {
            "text/plain": [
              "array([[6.3200e-03, 1.8000e+01, 2.3100e+00, ..., 1.5300e+01, 3.9690e+02,\n",
              "        4.9800e+00],\n",
              "       [2.7310e-02, 0.0000e+00, 7.0700e+00, ..., 1.7800e+01, 3.9690e+02,\n",
              "        9.1400e+00],\n",
              "       [2.7290e-02, 0.0000e+00, 7.0700e+00, ..., 1.7800e+01, 3.9283e+02,\n",
              "        4.0300e+00],\n",
              "       ...,\n",
              "       [6.0760e-02, 0.0000e+00, 1.1930e+01, ..., 2.1000e+01, 3.9690e+02,\n",
              "        5.6400e+00],\n",
              "       [1.0959e-01, 0.0000e+00, 1.1930e+01, ..., 2.1000e+01, 3.9345e+02,\n",
              "        6.4800e+00],\n",
              "       [4.7410e-02, 0.0000e+00, 1.1930e+01, ..., 2.1000e+01, 3.9690e+02,\n",
              "        7.8800e+00]])"
            ]
          },
          "metadata": {
            "tags": []
          },
          "execution_count": 5
        }
      ]
    },
    {
      "cell_type": "code",
      "metadata": {
        "id": "epB1UyPfzljO",
        "colab_type": "code",
        "colab": {
          "base_uri": "https://localhost:8080/",
          "height": 799
        },
        "outputId": "8de67fb5-dd33-4dec-cea4-8b8eee33810f"
      },
      "source": [
        "boston.target"
      ],
      "execution_count": 6,
      "outputs": [
        {
          "output_type": "execute_result",
          "data": {
            "text/plain": [
              "array([24. , 21.6, 34.7, 33.4, 36.2, 28.7, 22.9, 27.1, 16.5, 18.9, 15. ,\n",
              "       18.9, 21.7, 20.4, 18.2, 19.9, 23.1, 17.5, 20.2, 18.2, 13.6, 19.6,\n",
              "       15.2, 14.5, 15.6, 13.9, 16.6, 14.8, 18.4, 21. , 12.7, 14.5, 13.2,\n",
              "       13.1, 13.5, 18.9, 20. , 21. , 24.7, 30.8, 34.9, 26.6, 25.3, 24.7,\n",
              "       21.2, 19.3, 20. , 16.6, 14.4, 19.4, 19.7, 20.5, 25. , 23.4, 18.9,\n",
              "       35.4, 24.7, 31.6, 23.3, 19.6, 18.7, 16. , 22.2, 25. , 33. , 23.5,\n",
              "       19.4, 22. , 17.4, 20.9, 24.2, 21.7, 22.8, 23.4, 24.1, 21.4, 20. ,\n",
              "       20.8, 21.2, 20.3, 28. , 23.9, 24.8, 22.9, 23.9, 26.6, 22.5, 22.2,\n",
              "       23.6, 28.7, 22.6, 22. , 22.9, 25. , 20.6, 28.4, 21.4, 38.7, 43.8,\n",
              "       33.2, 27.5, 26.5, 18.6, 19.3, 20.1, 19.5, 19.5, 20.4, 19.8, 19.4,\n",
              "       21.7, 22.8, 18.8, 18.7, 18.5, 18.3, 21.2, 19.2, 20.4, 19.3, 22. ,\n",
              "       20.3, 20.5, 17.3, 18.8, 21.4, 15.7, 16.2, 18. , 14.3, 19.2, 19.6,\n",
              "       23. , 18.4, 15.6, 18.1, 17.4, 17.1, 13.3, 17.8, 14. , 14.4, 13.4,\n",
              "       15.6, 11.8, 13.8, 15.6, 14.6, 17.8, 15.4, 21.5, 19.6, 15.3, 19.4,\n",
              "       17. , 15.6, 13.1, 41.3, 24.3, 23.3, 27. , 50. , 50. , 50. , 22.7,\n",
              "       25. , 50. , 23.8, 23.8, 22.3, 17.4, 19.1, 23.1, 23.6, 22.6, 29.4,\n",
              "       23.2, 24.6, 29.9, 37.2, 39.8, 36.2, 37.9, 32.5, 26.4, 29.6, 50. ,\n",
              "       32. , 29.8, 34.9, 37. , 30.5, 36.4, 31.1, 29.1, 50. , 33.3, 30.3,\n",
              "       34.6, 34.9, 32.9, 24.1, 42.3, 48.5, 50. , 22.6, 24.4, 22.5, 24.4,\n",
              "       20. , 21.7, 19.3, 22.4, 28.1, 23.7, 25. , 23.3, 28.7, 21.5, 23. ,\n",
              "       26.7, 21.7, 27.5, 30.1, 44.8, 50. , 37.6, 31.6, 46.7, 31.5, 24.3,\n",
              "       31.7, 41.7, 48.3, 29. , 24. , 25.1, 31.5, 23.7, 23.3, 22. , 20.1,\n",
              "       22.2, 23.7, 17.6, 18.5, 24.3, 20.5, 24.5, 26.2, 24.4, 24.8, 29.6,\n",
              "       42.8, 21.9, 20.9, 44. , 50. , 36. , 30.1, 33.8, 43.1, 48.8, 31. ,\n",
              "       36.5, 22.8, 30.7, 50. , 43.5, 20.7, 21.1, 25.2, 24.4, 35.2, 32.4,\n",
              "       32. , 33.2, 33.1, 29.1, 35.1, 45.4, 35.4, 46. , 50. , 32.2, 22. ,\n",
              "       20.1, 23.2, 22.3, 24.8, 28.5, 37.3, 27.9, 23.9, 21.7, 28.6, 27.1,\n",
              "       20.3, 22.5, 29. , 24.8, 22. , 26.4, 33.1, 36.1, 28.4, 33.4, 28.2,\n",
              "       22.8, 20.3, 16.1, 22.1, 19.4, 21.6, 23.8, 16.2, 17.8, 19.8, 23.1,\n",
              "       21. , 23.8, 23.1, 20.4, 18.5, 25. , 24.6, 23. , 22.2, 19.3, 22.6,\n",
              "       19.8, 17.1, 19.4, 22.2, 20.7, 21.1, 19.5, 18.5, 20.6, 19. , 18.7,\n",
              "       32.7, 16.5, 23.9, 31.2, 17.5, 17.2, 23.1, 24.5, 26.6, 22.9, 24.1,\n",
              "       18.6, 30.1, 18.2, 20.6, 17.8, 21.7, 22.7, 22.6, 25. , 19.9, 20.8,\n",
              "       16.8, 21.9, 27.5, 21.9, 23.1, 50. , 50. , 50. , 50. , 50. , 13.8,\n",
              "       13.8, 15. , 13.9, 13.3, 13.1, 10.2, 10.4, 10.9, 11.3, 12.3,  8.8,\n",
              "        7.2, 10.5,  7.4, 10.2, 11.5, 15.1, 23.2,  9.7, 13.8, 12.7, 13.1,\n",
              "       12.5,  8.5,  5. ,  6.3,  5.6,  7.2, 12.1,  8.3,  8.5,  5. , 11.9,\n",
              "       27.9, 17.2, 27.5, 15. , 17.2, 17.9, 16.3,  7. ,  7.2,  7.5, 10.4,\n",
              "        8.8,  8.4, 16.7, 14.2, 20.8, 13.4, 11.7,  8.3, 10.2, 10.9, 11. ,\n",
              "        9.5, 14.5, 14.1, 16.1, 14.3, 11.7, 13.4,  9.6,  8.7,  8.4, 12.8,\n",
              "       10.5, 17.1, 18.4, 15.4, 10.8, 11.8, 14.9, 12.6, 14.1, 13. , 13.4,\n",
              "       15.2, 16.1, 17.8, 14.9, 14.1, 12.7, 13.5, 14.9, 20. , 16.4, 17.7,\n",
              "       19.5, 20.2, 21.4, 19.9, 19. , 19.1, 19.1, 20.1, 19.9, 19.6, 23.2,\n",
              "       29.8, 13.8, 13.3, 16.7, 12. , 14.6, 21.4, 23. , 23.7, 25. , 21.8,\n",
              "       20.6, 21.2, 19.1, 20.6, 15.2,  7. ,  8.1, 13.6, 20.1, 21.8, 24.5,\n",
              "       23.1, 19.7, 18.3, 21.2, 17.5, 16.8, 22.4, 20.6, 23.9, 22. , 11.9])"
            ]
          },
          "metadata": {
            "tags": []
          },
          "execution_count": 6
        }
      ]
    },
    {
      "cell_type": "code",
      "metadata": {
        "id": "d0qtUR7yzoUO",
        "colab_type": "code",
        "colab": {
          "base_uri": "https://localhost:8080/",
          "height": 51
        },
        "outputId": "b70c6c9f-ef9e-445d-8540-76a9380cb5a7"
      },
      "source": [
        "boston.feature_names"
      ],
      "execution_count": 7,
      "outputs": [
        {
          "output_type": "execute_result",
          "data": {
            "text/plain": [
              "array(['CRIM', 'ZN', 'INDUS', 'CHAS', 'NOX', 'RM', 'AGE', 'DIS', 'RAD',\n",
              "       'TAX', 'PTRATIO', 'B', 'LSTAT'], dtype='<U7')"
            ]
          },
          "metadata": {
            "tags": []
          },
          "execution_count": 7
        }
      ]
    },
    {
      "cell_type": "code",
      "metadata": {
        "id": "O2unngOozqzn",
        "colab_type": "code",
        "colab": {
          "base_uri": "https://localhost:8080/",
          "height": 419
        },
        "outputId": "65786c9c-c2ee-4e92-a1a0-7897aad9661c"
      },
      "source": [
        "df=pd.DataFrame(boston.data,columns=boston.feature_names)\n",
        "df"
      ],
      "execution_count": 8,
      "outputs": [
        {
          "output_type": "execute_result",
          "data": {
            "text/html": [
              "<div>\n",
              "<style scoped>\n",
              "    .dataframe tbody tr th:only-of-type {\n",
              "        vertical-align: middle;\n",
              "    }\n",
              "\n",
              "    .dataframe tbody tr th {\n",
              "        vertical-align: top;\n",
              "    }\n",
              "\n",
              "    .dataframe thead th {\n",
              "        text-align: right;\n",
              "    }\n",
              "</style>\n",
              "<table border=\"1\" class=\"dataframe\">\n",
              "  <thead>\n",
              "    <tr style=\"text-align: right;\">\n",
              "      <th></th>\n",
              "      <th>CRIM</th>\n",
              "      <th>ZN</th>\n",
              "      <th>INDUS</th>\n",
              "      <th>CHAS</th>\n",
              "      <th>NOX</th>\n",
              "      <th>RM</th>\n",
              "      <th>AGE</th>\n",
              "      <th>DIS</th>\n",
              "      <th>RAD</th>\n",
              "      <th>TAX</th>\n",
              "      <th>PTRATIO</th>\n",
              "      <th>B</th>\n",
              "      <th>LSTAT</th>\n",
              "    </tr>\n",
              "  </thead>\n",
              "  <tbody>\n",
              "    <tr>\n",
              "      <th>0</th>\n",
              "      <td>0.00632</td>\n",
              "      <td>18.0</td>\n",
              "      <td>2.31</td>\n",
              "      <td>0.0</td>\n",
              "      <td>0.538</td>\n",
              "      <td>6.575</td>\n",
              "      <td>65.2</td>\n",
              "      <td>4.0900</td>\n",
              "      <td>1.0</td>\n",
              "      <td>296.0</td>\n",
              "      <td>15.3</td>\n",
              "      <td>396.90</td>\n",
              "      <td>4.98</td>\n",
              "    </tr>\n",
              "    <tr>\n",
              "      <th>1</th>\n",
              "      <td>0.02731</td>\n",
              "      <td>0.0</td>\n",
              "      <td>7.07</td>\n",
              "      <td>0.0</td>\n",
              "      <td>0.469</td>\n",
              "      <td>6.421</td>\n",
              "      <td>78.9</td>\n",
              "      <td>4.9671</td>\n",
              "      <td>2.0</td>\n",
              "      <td>242.0</td>\n",
              "      <td>17.8</td>\n",
              "      <td>396.90</td>\n",
              "      <td>9.14</td>\n",
              "    </tr>\n",
              "    <tr>\n",
              "      <th>2</th>\n",
              "      <td>0.02729</td>\n",
              "      <td>0.0</td>\n",
              "      <td>7.07</td>\n",
              "      <td>0.0</td>\n",
              "      <td>0.469</td>\n",
              "      <td>7.185</td>\n",
              "      <td>61.1</td>\n",
              "      <td>4.9671</td>\n",
              "      <td>2.0</td>\n",
              "      <td>242.0</td>\n",
              "      <td>17.8</td>\n",
              "      <td>392.83</td>\n",
              "      <td>4.03</td>\n",
              "    </tr>\n",
              "    <tr>\n",
              "      <th>3</th>\n",
              "      <td>0.03237</td>\n",
              "      <td>0.0</td>\n",
              "      <td>2.18</td>\n",
              "      <td>0.0</td>\n",
              "      <td>0.458</td>\n",
              "      <td>6.998</td>\n",
              "      <td>45.8</td>\n",
              "      <td>6.0622</td>\n",
              "      <td>3.0</td>\n",
              "      <td>222.0</td>\n",
              "      <td>18.7</td>\n",
              "      <td>394.63</td>\n",
              "      <td>2.94</td>\n",
              "    </tr>\n",
              "    <tr>\n",
              "      <th>4</th>\n",
              "      <td>0.06905</td>\n",
              "      <td>0.0</td>\n",
              "      <td>2.18</td>\n",
              "      <td>0.0</td>\n",
              "      <td>0.458</td>\n",
              "      <td>7.147</td>\n",
              "      <td>54.2</td>\n",
              "      <td>6.0622</td>\n",
              "      <td>3.0</td>\n",
              "      <td>222.0</td>\n",
              "      <td>18.7</td>\n",
              "      <td>396.90</td>\n",
              "      <td>5.33</td>\n",
              "    </tr>\n",
              "    <tr>\n",
              "      <th>...</th>\n",
              "      <td>...</td>\n",
              "      <td>...</td>\n",
              "      <td>...</td>\n",
              "      <td>...</td>\n",
              "      <td>...</td>\n",
              "      <td>...</td>\n",
              "      <td>...</td>\n",
              "      <td>...</td>\n",
              "      <td>...</td>\n",
              "      <td>...</td>\n",
              "      <td>...</td>\n",
              "      <td>...</td>\n",
              "      <td>...</td>\n",
              "    </tr>\n",
              "    <tr>\n",
              "      <th>501</th>\n",
              "      <td>0.06263</td>\n",
              "      <td>0.0</td>\n",
              "      <td>11.93</td>\n",
              "      <td>0.0</td>\n",
              "      <td>0.573</td>\n",
              "      <td>6.593</td>\n",
              "      <td>69.1</td>\n",
              "      <td>2.4786</td>\n",
              "      <td>1.0</td>\n",
              "      <td>273.0</td>\n",
              "      <td>21.0</td>\n",
              "      <td>391.99</td>\n",
              "      <td>9.67</td>\n",
              "    </tr>\n",
              "    <tr>\n",
              "      <th>502</th>\n",
              "      <td>0.04527</td>\n",
              "      <td>0.0</td>\n",
              "      <td>11.93</td>\n",
              "      <td>0.0</td>\n",
              "      <td>0.573</td>\n",
              "      <td>6.120</td>\n",
              "      <td>76.7</td>\n",
              "      <td>2.2875</td>\n",
              "      <td>1.0</td>\n",
              "      <td>273.0</td>\n",
              "      <td>21.0</td>\n",
              "      <td>396.90</td>\n",
              "      <td>9.08</td>\n",
              "    </tr>\n",
              "    <tr>\n",
              "      <th>503</th>\n",
              "      <td>0.06076</td>\n",
              "      <td>0.0</td>\n",
              "      <td>11.93</td>\n",
              "      <td>0.0</td>\n",
              "      <td>0.573</td>\n",
              "      <td>6.976</td>\n",
              "      <td>91.0</td>\n",
              "      <td>2.1675</td>\n",
              "      <td>1.0</td>\n",
              "      <td>273.0</td>\n",
              "      <td>21.0</td>\n",
              "      <td>396.90</td>\n",
              "      <td>5.64</td>\n",
              "    </tr>\n",
              "    <tr>\n",
              "      <th>504</th>\n",
              "      <td>0.10959</td>\n",
              "      <td>0.0</td>\n",
              "      <td>11.93</td>\n",
              "      <td>0.0</td>\n",
              "      <td>0.573</td>\n",
              "      <td>6.794</td>\n",
              "      <td>89.3</td>\n",
              "      <td>2.3889</td>\n",
              "      <td>1.0</td>\n",
              "      <td>273.0</td>\n",
              "      <td>21.0</td>\n",
              "      <td>393.45</td>\n",
              "      <td>6.48</td>\n",
              "    </tr>\n",
              "    <tr>\n",
              "      <th>505</th>\n",
              "      <td>0.04741</td>\n",
              "      <td>0.0</td>\n",
              "      <td>11.93</td>\n",
              "      <td>0.0</td>\n",
              "      <td>0.573</td>\n",
              "      <td>6.030</td>\n",
              "      <td>80.8</td>\n",
              "      <td>2.5050</td>\n",
              "      <td>1.0</td>\n",
              "      <td>273.0</td>\n",
              "      <td>21.0</td>\n",
              "      <td>396.90</td>\n",
              "      <td>7.88</td>\n",
              "    </tr>\n",
              "  </tbody>\n",
              "</table>\n",
              "<p>506 rows × 13 columns</p>\n",
              "</div>"
            ],
            "text/plain": [
              "        CRIM    ZN  INDUS  CHAS    NOX  ...  RAD    TAX  PTRATIO       B  LSTAT\n",
              "0    0.00632  18.0   2.31   0.0  0.538  ...  1.0  296.0     15.3  396.90   4.98\n",
              "1    0.02731   0.0   7.07   0.0  0.469  ...  2.0  242.0     17.8  396.90   9.14\n",
              "2    0.02729   0.0   7.07   0.0  0.469  ...  2.0  242.0     17.8  392.83   4.03\n",
              "3    0.03237   0.0   2.18   0.0  0.458  ...  3.0  222.0     18.7  394.63   2.94\n",
              "4    0.06905   0.0   2.18   0.0  0.458  ...  3.0  222.0     18.7  396.90   5.33\n",
              "..       ...   ...    ...   ...    ...  ...  ...    ...      ...     ...    ...\n",
              "501  0.06263   0.0  11.93   0.0  0.573  ...  1.0  273.0     21.0  391.99   9.67\n",
              "502  0.04527   0.0  11.93   0.0  0.573  ...  1.0  273.0     21.0  396.90   9.08\n",
              "503  0.06076   0.0  11.93   0.0  0.573  ...  1.0  273.0     21.0  396.90   5.64\n",
              "504  0.10959   0.0  11.93   0.0  0.573  ...  1.0  273.0     21.0  393.45   6.48\n",
              "505  0.04741   0.0  11.93   0.0  0.573  ...  1.0  273.0     21.0  396.90   7.88\n",
              "\n",
              "[506 rows x 13 columns]"
            ]
          },
          "metadata": {
            "tags": []
          },
          "execution_count": 8
        }
      ]
    },
    {
      "cell_type": "code",
      "metadata": {
        "id": "yFemSANUz0xc",
        "colab_type": "code",
        "colab": {
          "base_uri": "https://localhost:8080/",
          "height": 419
        },
        "outputId": "ab3d1b32-92a0-462e-fce0-721d0c786174"
      },
      "source": [
        "df=pd.DataFrame(boston.data,columns=boston.feature_names)\n",
        "df"
      ],
      "execution_count": 9,
      "outputs": [
        {
          "output_type": "execute_result",
          "data": {
            "text/html": [
              "<div>\n",
              "<style scoped>\n",
              "    .dataframe tbody tr th:only-of-type {\n",
              "        vertical-align: middle;\n",
              "    }\n",
              "\n",
              "    .dataframe tbody tr th {\n",
              "        vertical-align: top;\n",
              "    }\n",
              "\n",
              "    .dataframe thead th {\n",
              "        text-align: right;\n",
              "    }\n",
              "</style>\n",
              "<table border=\"1\" class=\"dataframe\">\n",
              "  <thead>\n",
              "    <tr style=\"text-align: right;\">\n",
              "      <th></th>\n",
              "      <th>CRIM</th>\n",
              "      <th>ZN</th>\n",
              "      <th>INDUS</th>\n",
              "      <th>CHAS</th>\n",
              "      <th>NOX</th>\n",
              "      <th>RM</th>\n",
              "      <th>AGE</th>\n",
              "      <th>DIS</th>\n",
              "      <th>RAD</th>\n",
              "      <th>TAX</th>\n",
              "      <th>PTRATIO</th>\n",
              "      <th>B</th>\n",
              "      <th>LSTAT</th>\n",
              "    </tr>\n",
              "  </thead>\n",
              "  <tbody>\n",
              "    <tr>\n",
              "      <th>0</th>\n",
              "      <td>0.00632</td>\n",
              "      <td>18.0</td>\n",
              "      <td>2.31</td>\n",
              "      <td>0.0</td>\n",
              "      <td>0.538</td>\n",
              "      <td>6.575</td>\n",
              "      <td>65.2</td>\n",
              "      <td>4.0900</td>\n",
              "      <td>1.0</td>\n",
              "      <td>296.0</td>\n",
              "      <td>15.3</td>\n",
              "      <td>396.90</td>\n",
              "      <td>4.98</td>\n",
              "    </tr>\n",
              "    <tr>\n",
              "      <th>1</th>\n",
              "      <td>0.02731</td>\n",
              "      <td>0.0</td>\n",
              "      <td>7.07</td>\n",
              "      <td>0.0</td>\n",
              "      <td>0.469</td>\n",
              "      <td>6.421</td>\n",
              "      <td>78.9</td>\n",
              "      <td>4.9671</td>\n",
              "      <td>2.0</td>\n",
              "      <td>242.0</td>\n",
              "      <td>17.8</td>\n",
              "      <td>396.90</td>\n",
              "      <td>9.14</td>\n",
              "    </tr>\n",
              "    <tr>\n",
              "      <th>2</th>\n",
              "      <td>0.02729</td>\n",
              "      <td>0.0</td>\n",
              "      <td>7.07</td>\n",
              "      <td>0.0</td>\n",
              "      <td>0.469</td>\n",
              "      <td>7.185</td>\n",
              "      <td>61.1</td>\n",
              "      <td>4.9671</td>\n",
              "      <td>2.0</td>\n",
              "      <td>242.0</td>\n",
              "      <td>17.8</td>\n",
              "      <td>392.83</td>\n",
              "      <td>4.03</td>\n",
              "    </tr>\n",
              "    <tr>\n",
              "      <th>3</th>\n",
              "      <td>0.03237</td>\n",
              "      <td>0.0</td>\n",
              "      <td>2.18</td>\n",
              "      <td>0.0</td>\n",
              "      <td>0.458</td>\n",
              "      <td>6.998</td>\n",
              "      <td>45.8</td>\n",
              "      <td>6.0622</td>\n",
              "      <td>3.0</td>\n",
              "      <td>222.0</td>\n",
              "      <td>18.7</td>\n",
              "      <td>394.63</td>\n",
              "      <td>2.94</td>\n",
              "    </tr>\n",
              "    <tr>\n",
              "      <th>4</th>\n",
              "      <td>0.06905</td>\n",
              "      <td>0.0</td>\n",
              "      <td>2.18</td>\n",
              "      <td>0.0</td>\n",
              "      <td>0.458</td>\n",
              "      <td>7.147</td>\n",
              "      <td>54.2</td>\n",
              "      <td>6.0622</td>\n",
              "      <td>3.0</td>\n",
              "      <td>222.0</td>\n",
              "      <td>18.7</td>\n",
              "      <td>396.90</td>\n",
              "      <td>5.33</td>\n",
              "    </tr>\n",
              "    <tr>\n",
              "      <th>...</th>\n",
              "      <td>...</td>\n",
              "      <td>...</td>\n",
              "      <td>...</td>\n",
              "      <td>...</td>\n",
              "      <td>...</td>\n",
              "      <td>...</td>\n",
              "      <td>...</td>\n",
              "      <td>...</td>\n",
              "      <td>...</td>\n",
              "      <td>...</td>\n",
              "      <td>...</td>\n",
              "      <td>...</td>\n",
              "      <td>...</td>\n",
              "    </tr>\n",
              "    <tr>\n",
              "      <th>501</th>\n",
              "      <td>0.06263</td>\n",
              "      <td>0.0</td>\n",
              "      <td>11.93</td>\n",
              "      <td>0.0</td>\n",
              "      <td>0.573</td>\n",
              "      <td>6.593</td>\n",
              "      <td>69.1</td>\n",
              "      <td>2.4786</td>\n",
              "      <td>1.0</td>\n",
              "      <td>273.0</td>\n",
              "      <td>21.0</td>\n",
              "      <td>391.99</td>\n",
              "      <td>9.67</td>\n",
              "    </tr>\n",
              "    <tr>\n",
              "      <th>502</th>\n",
              "      <td>0.04527</td>\n",
              "      <td>0.0</td>\n",
              "      <td>11.93</td>\n",
              "      <td>0.0</td>\n",
              "      <td>0.573</td>\n",
              "      <td>6.120</td>\n",
              "      <td>76.7</td>\n",
              "      <td>2.2875</td>\n",
              "      <td>1.0</td>\n",
              "      <td>273.0</td>\n",
              "      <td>21.0</td>\n",
              "      <td>396.90</td>\n",
              "      <td>9.08</td>\n",
              "    </tr>\n",
              "    <tr>\n",
              "      <th>503</th>\n",
              "      <td>0.06076</td>\n",
              "      <td>0.0</td>\n",
              "      <td>11.93</td>\n",
              "      <td>0.0</td>\n",
              "      <td>0.573</td>\n",
              "      <td>6.976</td>\n",
              "      <td>91.0</td>\n",
              "      <td>2.1675</td>\n",
              "      <td>1.0</td>\n",
              "      <td>273.0</td>\n",
              "      <td>21.0</td>\n",
              "      <td>396.90</td>\n",
              "      <td>5.64</td>\n",
              "    </tr>\n",
              "    <tr>\n",
              "      <th>504</th>\n",
              "      <td>0.10959</td>\n",
              "      <td>0.0</td>\n",
              "      <td>11.93</td>\n",
              "      <td>0.0</td>\n",
              "      <td>0.573</td>\n",
              "      <td>6.794</td>\n",
              "      <td>89.3</td>\n",
              "      <td>2.3889</td>\n",
              "      <td>1.0</td>\n",
              "      <td>273.0</td>\n",
              "      <td>21.0</td>\n",
              "      <td>393.45</td>\n",
              "      <td>6.48</td>\n",
              "    </tr>\n",
              "    <tr>\n",
              "      <th>505</th>\n",
              "      <td>0.04741</td>\n",
              "      <td>0.0</td>\n",
              "      <td>11.93</td>\n",
              "      <td>0.0</td>\n",
              "      <td>0.573</td>\n",
              "      <td>6.030</td>\n",
              "      <td>80.8</td>\n",
              "      <td>2.5050</td>\n",
              "      <td>1.0</td>\n",
              "      <td>273.0</td>\n",
              "      <td>21.0</td>\n",
              "      <td>396.90</td>\n",
              "      <td>7.88</td>\n",
              "    </tr>\n",
              "  </tbody>\n",
              "</table>\n",
              "<p>506 rows × 13 columns</p>\n",
              "</div>"
            ],
            "text/plain": [
              "        CRIM    ZN  INDUS  CHAS    NOX  ...  RAD    TAX  PTRATIO       B  LSTAT\n",
              "0    0.00632  18.0   2.31   0.0  0.538  ...  1.0  296.0     15.3  396.90   4.98\n",
              "1    0.02731   0.0   7.07   0.0  0.469  ...  2.0  242.0     17.8  396.90   9.14\n",
              "2    0.02729   0.0   7.07   0.0  0.469  ...  2.0  242.0     17.8  392.83   4.03\n",
              "3    0.03237   0.0   2.18   0.0  0.458  ...  3.0  222.0     18.7  394.63   2.94\n",
              "4    0.06905   0.0   2.18   0.0  0.458  ...  3.0  222.0     18.7  396.90   5.33\n",
              "..       ...   ...    ...   ...    ...  ...  ...    ...      ...     ...    ...\n",
              "501  0.06263   0.0  11.93   0.0  0.573  ...  1.0  273.0     21.0  391.99   9.67\n",
              "502  0.04527   0.0  11.93   0.0  0.573  ...  1.0  273.0     21.0  396.90   9.08\n",
              "503  0.06076   0.0  11.93   0.0  0.573  ...  1.0  273.0     21.0  396.90   5.64\n",
              "504  0.10959   0.0  11.93   0.0  0.573  ...  1.0  273.0     21.0  393.45   6.48\n",
              "505  0.04741   0.0  11.93   0.0  0.573  ...  1.0  273.0     21.0  396.90   7.88\n",
              "\n",
              "[506 rows x 13 columns]"
            ]
          },
          "metadata": {
            "tags": []
          },
          "execution_count": 9
        }
      ]
    },
    {
      "cell_type": "code",
      "metadata": {
        "id": "qUQSx4CI0HOq",
        "colab_type": "code",
        "colab": {
          "base_uri": "https://localhost:8080/",
          "height": 419
        },
        "outputId": "b928a593-a368-4e12-fa67-d803a7372ffc"
      },
      "source": [
        "df['MEDV']=boston.target\n",
        "df"
      ],
      "execution_count": 10,
      "outputs": [
        {
          "output_type": "execute_result",
          "data": {
            "text/html": [
              "<div>\n",
              "<style scoped>\n",
              "    .dataframe tbody tr th:only-of-type {\n",
              "        vertical-align: middle;\n",
              "    }\n",
              "\n",
              "    .dataframe tbody tr th {\n",
              "        vertical-align: top;\n",
              "    }\n",
              "\n",
              "    .dataframe thead th {\n",
              "        text-align: right;\n",
              "    }\n",
              "</style>\n",
              "<table border=\"1\" class=\"dataframe\">\n",
              "  <thead>\n",
              "    <tr style=\"text-align: right;\">\n",
              "      <th></th>\n",
              "      <th>CRIM</th>\n",
              "      <th>ZN</th>\n",
              "      <th>INDUS</th>\n",
              "      <th>CHAS</th>\n",
              "      <th>NOX</th>\n",
              "      <th>RM</th>\n",
              "      <th>AGE</th>\n",
              "      <th>DIS</th>\n",
              "      <th>RAD</th>\n",
              "      <th>TAX</th>\n",
              "      <th>PTRATIO</th>\n",
              "      <th>B</th>\n",
              "      <th>LSTAT</th>\n",
              "      <th>MEDV</th>\n",
              "    </tr>\n",
              "  </thead>\n",
              "  <tbody>\n",
              "    <tr>\n",
              "      <th>0</th>\n",
              "      <td>0.00632</td>\n",
              "      <td>18.0</td>\n",
              "      <td>2.31</td>\n",
              "      <td>0.0</td>\n",
              "      <td>0.538</td>\n",
              "      <td>6.575</td>\n",
              "      <td>65.2</td>\n",
              "      <td>4.0900</td>\n",
              "      <td>1.0</td>\n",
              "      <td>296.0</td>\n",
              "      <td>15.3</td>\n",
              "      <td>396.90</td>\n",
              "      <td>4.98</td>\n",
              "      <td>24.0</td>\n",
              "    </tr>\n",
              "    <tr>\n",
              "      <th>1</th>\n",
              "      <td>0.02731</td>\n",
              "      <td>0.0</td>\n",
              "      <td>7.07</td>\n",
              "      <td>0.0</td>\n",
              "      <td>0.469</td>\n",
              "      <td>6.421</td>\n",
              "      <td>78.9</td>\n",
              "      <td>4.9671</td>\n",
              "      <td>2.0</td>\n",
              "      <td>242.0</td>\n",
              "      <td>17.8</td>\n",
              "      <td>396.90</td>\n",
              "      <td>9.14</td>\n",
              "      <td>21.6</td>\n",
              "    </tr>\n",
              "    <tr>\n",
              "      <th>2</th>\n",
              "      <td>0.02729</td>\n",
              "      <td>0.0</td>\n",
              "      <td>7.07</td>\n",
              "      <td>0.0</td>\n",
              "      <td>0.469</td>\n",
              "      <td>7.185</td>\n",
              "      <td>61.1</td>\n",
              "      <td>4.9671</td>\n",
              "      <td>2.0</td>\n",
              "      <td>242.0</td>\n",
              "      <td>17.8</td>\n",
              "      <td>392.83</td>\n",
              "      <td>4.03</td>\n",
              "      <td>34.7</td>\n",
              "    </tr>\n",
              "    <tr>\n",
              "      <th>3</th>\n",
              "      <td>0.03237</td>\n",
              "      <td>0.0</td>\n",
              "      <td>2.18</td>\n",
              "      <td>0.0</td>\n",
              "      <td>0.458</td>\n",
              "      <td>6.998</td>\n",
              "      <td>45.8</td>\n",
              "      <td>6.0622</td>\n",
              "      <td>3.0</td>\n",
              "      <td>222.0</td>\n",
              "      <td>18.7</td>\n",
              "      <td>394.63</td>\n",
              "      <td>2.94</td>\n",
              "      <td>33.4</td>\n",
              "    </tr>\n",
              "    <tr>\n",
              "      <th>4</th>\n",
              "      <td>0.06905</td>\n",
              "      <td>0.0</td>\n",
              "      <td>2.18</td>\n",
              "      <td>0.0</td>\n",
              "      <td>0.458</td>\n",
              "      <td>7.147</td>\n",
              "      <td>54.2</td>\n",
              "      <td>6.0622</td>\n",
              "      <td>3.0</td>\n",
              "      <td>222.0</td>\n",
              "      <td>18.7</td>\n",
              "      <td>396.90</td>\n",
              "      <td>5.33</td>\n",
              "      <td>36.2</td>\n",
              "    </tr>\n",
              "    <tr>\n",
              "      <th>...</th>\n",
              "      <td>...</td>\n",
              "      <td>...</td>\n",
              "      <td>...</td>\n",
              "      <td>...</td>\n",
              "      <td>...</td>\n",
              "      <td>...</td>\n",
              "      <td>...</td>\n",
              "      <td>...</td>\n",
              "      <td>...</td>\n",
              "      <td>...</td>\n",
              "      <td>...</td>\n",
              "      <td>...</td>\n",
              "      <td>...</td>\n",
              "      <td>...</td>\n",
              "    </tr>\n",
              "    <tr>\n",
              "      <th>501</th>\n",
              "      <td>0.06263</td>\n",
              "      <td>0.0</td>\n",
              "      <td>11.93</td>\n",
              "      <td>0.0</td>\n",
              "      <td>0.573</td>\n",
              "      <td>6.593</td>\n",
              "      <td>69.1</td>\n",
              "      <td>2.4786</td>\n",
              "      <td>1.0</td>\n",
              "      <td>273.0</td>\n",
              "      <td>21.0</td>\n",
              "      <td>391.99</td>\n",
              "      <td>9.67</td>\n",
              "      <td>22.4</td>\n",
              "    </tr>\n",
              "    <tr>\n",
              "      <th>502</th>\n",
              "      <td>0.04527</td>\n",
              "      <td>0.0</td>\n",
              "      <td>11.93</td>\n",
              "      <td>0.0</td>\n",
              "      <td>0.573</td>\n",
              "      <td>6.120</td>\n",
              "      <td>76.7</td>\n",
              "      <td>2.2875</td>\n",
              "      <td>1.0</td>\n",
              "      <td>273.0</td>\n",
              "      <td>21.0</td>\n",
              "      <td>396.90</td>\n",
              "      <td>9.08</td>\n",
              "      <td>20.6</td>\n",
              "    </tr>\n",
              "    <tr>\n",
              "      <th>503</th>\n",
              "      <td>0.06076</td>\n",
              "      <td>0.0</td>\n",
              "      <td>11.93</td>\n",
              "      <td>0.0</td>\n",
              "      <td>0.573</td>\n",
              "      <td>6.976</td>\n",
              "      <td>91.0</td>\n",
              "      <td>2.1675</td>\n",
              "      <td>1.0</td>\n",
              "      <td>273.0</td>\n",
              "      <td>21.0</td>\n",
              "      <td>396.90</td>\n",
              "      <td>5.64</td>\n",
              "      <td>23.9</td>\n",
              "    </tr>\n",
              "    <tr>\n",
              "      <th>504</th>\n",
              "      <td>0.10959</td>\n",
              "      <td>0.0</td>\n",
              "      <td>11.93</td>\n",
              "      <td>0.0</td>\n",
              "      <td>0.573</td>\n",
              "      <td>6.794</td>\n",
              "      <td>89.3</td>\n",
              "      <td>2.3889</td>\n",
              "      <td>1.0</td>\n",
              "      <td>273.0</td>\n",
              "      <td>21.0</td>\n",
              "      <td>393.45</td>\n",
              "      <td>6.48</td>\n",
              "      <td>22.0</td>\n",
              "    </tr>\n",
              "    <tr>\n",
              "      <th>505</th>\n",
              "      <td>0.04741</td>\n",
              "      <td>0.0</td>\n",
              "      <td>11.93</td>\n",
              "      <td>0.0</td>\n",
              "      <td>0.573</td>\n",
              "      <td>6.030</td>\n",
              "      <td>80.8</td>\n",
              "      <td>2.5050</td>\n",
              "      <td>1.0</td>\n",
              "      <td>273.0</td>\n",
              "      <td>21.0</td>\n",
              "      <td>396.90</td>\n",
              "      <td>7.88</td>\n",
              "      <td>11.9</td>\n",
              "    </tr>\n",
              "  </tbody>\n",
              "</table>\n",
              "<p>506 rows × 14 columns</p>\n",
              "</div>"
            ],
            "text/plain": [
              "        CRIM    ZN  INDUS  CHAS    NOX  ...    TAX  PTRATIO       B  LSTAT  MEDV\n",
              "0    0.00632  18.0   2.31   0.0  0.538  ...  296.0     15.3  396.90   4.98  24.0\n",
              "1    0.02731   0.0   7.07   0.0  0.469  ...  242.0     17.8  396.90   9.14  21.6\n",
              "2    0.02729   0.0   7.07   0.0  0.469  ...  242.0     17.8  392.83   4.03  34.7\n",
              "3    0.03237   0.0   2.18   0.0  0.458  ...  222.0     18.7  394.63   2.94  33.4\n",
              "4    0.06905   0.0   2.18   0.0  0.458  ...  222.0     18.7  396.90   5.33  36.2\n",
              "..       ...   ...    ...   ...    ...  ...    ...      ...     ...    ...   ...\n",
              "501  0.06263   0.0  11.93   0.0  0.573  ...  273.0     21.0  391.99   9.67  22.4\n",
              "502  0.04527   0.0  11.93   0.0  0.573  ...  273.0     21.0  396.90   9.08  20.6\n",
              "503  0.06076   0.0  11.93   0.0  0.573  ...  273.0     21.0  396.90   5.64  23.9\n",
              "504  0.10959   0.0  11.93   0.0  0.573  ...  273.0     21.0  393.45   6.48  22.0\n",
              "505  0.04741   0.0  11.93   0.0  0.573  ...  273.0     21.0  396.90   7.88  11.9\n",
              "\n",
              "[506 rows x 14 columns]"
            ]
          },
          "metadata": {
            "tags": []
          },
          "execution_count": 10
        }
      ]
    },
    {
      "cell_type": "code",
      "metadata": {
        "id": "htuC9UEx0cZ2",
        "colab_type": "code",
        "colab": {
          "base_uri": "https://localhost:8080/",
          "height": 483
        },
        "outputId": "5047d72c-7b47-4190-dd4f-8a9e51babf3b"
      },
      "source": [
        "df.describe().T"
      ],
      "execution_count": 11,
      "outputs": [
        {
          "output_type": "execute_result",
          "data": {
            "text/html": [
              "<div>\n",
              "<style scoped>\n",
              "    .dataframe tbody tr th:only-of-type {\n",
              "        vertical-align: middle;\n",
              "    }\n",
              "\n",
              "    .dataframe tbody tr th {\n",
              "        vertical-align: top;\n",
              "    }\n",
              "\n",
              "    .dataframe thead th {\n",
              "        text-align: right;\n",
              "    }\n",
              "</style>\n",
              "<table border=\"1\" class=\"dataframe\">\n",
              "  <thead>\n",
              "    <tr style=\"text-align: right;\">\n",
              "      <th></th>\n",
              "      <th>count</th>\n",
              "      <th>mean</th>\n",
              "      <th>std</th>\n",
              "      <th>min</th>\n",
              "      <th>25%</th>\n",
              "      <th>50%</th>\n",
              "      <th>75%</th>\n",
              "      <th>max</th>\n",
              "    </tr>\n",
              "  </thead>\n",
              "  <tbody>\n",
              "    <tr>\n",
              "      <th>CRIM</th>\n",
              "      <td>506.0</td>\n",
              "      <td>3.613524</td>\n",
              "      <td>8.601545</td>\n",
              "      <td>0.00632</td>\n",
              "      <td>0.082045</td>\n",
              "      <td>0.25651</td>\n",
              "      <td>3.677083</td>\n",
              "      <td>88.9762</td>\n",
              "    </tr>\n",
              "    <tr>\n",
              "      <th>ZN</th>\n",
              "      <td>506.0</td>\n",
              "      <td>11.363636</td>\n",
              "      <td>23.322453</td>\n",
              "      <td>0.00000</td>\n",
              "      <td>0.000000</td>\n",
              "      <td>0.00000</td>\n",
              "      <td>12.500000</td>\n",
              "      <td>100.0000</td>\n",
              "    </tr>\n",
              "    <tr>\n",
              "      <th>INDUS</th>\n",
              "      <td>506.0</td>\n",
              "      <td>11.136779</td>\n",
              "      <td>6.860353</td>\n",
              "      <td>0.46000</td>\n",
              "      <td>5.190000</td>\n",
              "      <td>9.69000</td>\n",
              "      <td>18.100000</td>\n",
              "      <td>27.7400</td>\n",
              "    </tr>\n",
              "    <tr>\n",
              "      <th>CHAS</th>\n",
              "      <td>506.0</td>\n",
              "      <td>0.069170</td>\n",
              "      <td>0.253994</td>\n",
              "      <td>0.00000</td>\n",
              "      <td>0.000000</td>\n",
              "      <td>0.00000</td>\n",
              "      <td>0.000000</td>\n",
              "      <td>1.0000</td>\n",
              "    </tr>\n",
              "    <tr>\n",
              "      <th>NOX</th>\n",
              "      <td>506.0</td>\n",
              "      <td>0.554695</td>\n",
              "      <td>0.115878</td>\n",
              "      <td>0.38500</td>\n",
              "      <td>0.449000</td>\n",
              "      <td>0.53800</td>\n",
              "      <td>0.624000</td>\n",
              "      <td>0.8710</td>\n",
              "    </tr>\n",
              "    <tr>\n",
              "      <th>RM</th>\n",
              "      <td>506.0</td>\n",
              "      <td>6.284634</td>\n",
              "      <td>0.702617</td>\n",
              "      <td>3.56100</td>\n",
              "      <td>5.885500</td>\n",
              "      <td>6.20850</td>\n",
              "      <td>6.623500</td>\n",
              "      <td>8.7800</td>\n",
              "    </tr>\n",
              "    <tr>\n",
              "      <th>AGE</th>\n",
              "      <td>506.0</td>\n",
              "      <td>68.574901</td>\n",
              "      <td>28.148861</td>\n",
              "      <td>2.90000</td>\n",
              "      <td>45.025000</td>\n",
              "      <td>77.50000</td>\n",
              "      <td>94.075000</td>\n",
              "      <td>100.0000</td>\n",
              "    </tr>\n",
              "    <tr>\n",
              "      <th>DIS</th>\n",
              "      <td>506.0</td>\n",
              "      <td>3.795043</td>\n",
              "      <td>2.105710</td>\n",
              "      <td>1.12960</td>\n",
              "      <td>2.100175</td>\n",
              "      <td>3.20745</td>\n",
              "      <td>5.188425</td>\n",
              "      <td>12.1265</td>\n",
              "    </tr>\n",
              "    <tr>\n",
              "      <th>RAD</th>\n",
              "      <td>506.0</td>\n",
              "      <td>9.549407</td>\n",
              "      <td>8.707259</td>\n",
              "      <td>1.00000</td>\n",
              "      <td>4.000000</td>\n",
              "      <td>5.00000</td>\n",
              "      <td>24.000000</td>\n",
              "      <td>24.0000</td>\n",
              "    </tr>\n",
              "    <tr>\n",
              "      <th>TAX</th>\n",
              "      <td>506.0</td>\n",
              "      <td>408.237154</td>\n",
              "      <td>168.537116</td>\n",
              "      <td>187.00000</td>\n",
              "      <td>279.000000</td>\n",
              "      <td>330.00000</td>\n",
              "      <td>666.000000</td>\n",
              "      <td>711.0000</td>\n",
              "    </tr>\n",
              "    <tr>\n",
              "      <th>PTRATIO</th>\n",
              "      <td>506.0</td>\n",
              "      <td>18.455534</td>\n",
              "      <td>2.164946</td>\n",
              "      <td>12.60000</td>\n",
              "      <td>17.400000</td>\n",
              "      <td>19.05000</td>\n",
              "      <td>20.200000</td>\n",
              "      <td>22.0000</td>\n",
              "    </tr>\n",
              "    <tr>\n",
              "      <th>B</th>\n",
              "      <td>506.0</td>\n",
              "      <td>356.674032</td>\n",
              "      <td>91.294864</td>\n",
              "      <td>0.32000</td>\n",
              "      <td>375.377500</td>\n",
              "      <td>391.44000</td>\n",
              "      <td>396.225000</td>\n",
              "      <td>396.9000</td>\n",
              "    </tr>\n",
              "    <tr>\n",
              "      <th>LSTAT</th>\n",
              "      <td>506.0</td>\n",
              "      <td>12.653063</td>\n",
              "      <td>7.141062</td>\n",
              "      <td>1.73000</td>\n",
              "      <td>6.950000</td>\n",
              "      <td>11.36000</td>\n",
              "      <td>16.955000</td>\n",
              "      <td>37.9700</td>\n",
              "    </tr>\n",
              "    <tr>\n",
              "      <th>MEDV</th>\n",
              "      <td>506.0</td>\n",
              "      <td>22.532806</td>\n",
              "      <td>9.197104</td>\n",
              "      <td>5.00000</td>\n",
              "      <td>17.025000</td>\n",
              "      <td>21.20000</td>\n",
              "      <td>25.000000</td>\n",
              "      <td>50.0000</td>\n",
              "    </tr>\n",
              "  </tbody>\n",
              "</table>\n",
              "</div>"
            ],
            "text/plain": [
              "         count        mean         std  ...        50%         75%       max\n",
              "CRIM     506.0    3.613524    8.601545  ...    0.25651    3.677083   88.9762\n",
              "ZN       506.0   11.363636   23.322453  ...    0.00000   12.500000  100.0000\n",
              "INDUS    506.0   11.136779    6.860353  ...    9.69000   18.100000   27.7400\n",
              "CHAS     506.0    0.069170    0.253994  ...    0.00000    0.000000    1.0000\n",
              "NOX      506.0    0.554695    0.115878  ...    0.53800    0.624000    0.8710\n",
              "RM       506.0    6.284634    0.702617  ...    6.20850    6.623500    8.7800\n",
              "AGE      506.0   68.574901   28.148861  ...   77.50000   94.075000  100.0000\n",
              "DIS      506.0    3.795043    2.105710  ...    3.20745    5.188425   12.1265\n",
              "RAD      506.0    9.549407    8.707259  ...    5.00000   24.000000   24.0000\n",
              "TAX      506.0  408.237154  168.537116  ...  330.00000  666.000000  711.0000\n",
              "PTRATIO  506.0   18.455534    2.164946  ...   19.05000   20.200000   22.0000\n",
              "B        506.0  356.674032   91.294864  ...  391.44000  396.225000  396.9000\n",
              "LSTAT    506.0   12.653063    7.141062  ...   11.36000   16.955000   37.9700\n",
              "MEDV     506.0   22.532806    9.197104  ...   21.20000   25.000000   50.0000\n",
              "\n",
              "[14 rows x 8 columns]"
            ]
          },
          "metadata": {
            "tags": []
          },
          "execution_count": 11
        }
      ]
    },
    {
      "cell_type": "code",
      "metadata": {
        "id": "Yu-Msz8v0osZ",
        "colab_type": "code",
        "colab": {
          "base_uri": "https://localhost:8080/",
          "height": 483
        },
        "outputId": "b0bfda76-c909-4be1-942e-f911d54092cc"
      },
      "source": [
        "df.corr()"
      ],
      "execution_count": 12,
      "outputs": [
        {
          "output_type": "execute_result",
          "data": {
            "text/html": [
              "<div>\n",
              "<style scoped>\n",
              "    .dataframe tbody tr th:only-of-type {\n",
              "        vertical-align: middle;\n",
              "    }\n",
              "\n",
              "    .dataframe tbody tr th {\n",
              "        vertical-align: top;\n",
              "    }\n",
              "\n",
              "    .dataframe thead th {\n",
              "        text-align: right;\n",
              "    }\n",
              "</style>\n",
              "<table border=\"1\" class=\"dataframe\">\n",
              "  <thead>\n",
              "    <tr style=\"text-align: right;\">\n",
              "      <th></th>\n",
              "      <th>CRIM</th>\n",
              "      <th>ZN</th>\n",
              "      <th>INDUS</th>\n",
              "      <th>CHAS</th>\n",
              "      <th>NOX</th>\n",
              "      <th>RM</th>\n",
              "      <th>AGE</th>\n",
              "      <th>DIS</th>\n",
              "      <th>RAD</th>\n",
              "      <th>TAX</th>\n",
              "      <th>PTRATIO</th>\n",
              "      <th>B</th>\n",
              "      <th>LSTAT</th>\n",
              "      <th>MEDV</th>\n",
              "    </tr>\n",
              "  </thead>\n",
              "  <tbody>\n",
              "    <tr>\n",
              "      <th>CRIM</th>\n",
              "      <td>1.000000</td>\n",
              "      <td>-0.200469</td>\n",
              "      <td>0.406583</td>\n",
              "      <td>-0.055892</td>\n",
              "      <td>0.420972</td>\n",
              "      <td>-0.219247</td>\n",
              "      <td>0.352734</td>\n",
              "      <td>-0.379670</td>\n",
              "      <td>0.625505</td>\n",
              "      <td>0.582764</td>\n",
              "      <td>0.289946</td>\n",
              "      <td>-0.385064</td>\n",
              "      <td>0.455621</td>\n",
              "      <td>-0.388305</td>\n",
              "    </tr>\n",
              "    <tr>\n",
              "      <th>ZN</th>\n",
              "      <td>-0.200469</td>\n",
              "      <td>1.000000</td>\n",
              "      <td>-0.533828</td>\n",
              "      <td>-0.042697</td>\n",
              "      <td>-0.516604</td>\n",
              "      <td>0.311991</td>\n",
              "      <td>-0.569537</td>\n",
              "      <td>0.664408</td>\n",
              "      <td>-0.311948</td>\n",
              "      <td>-0.314563</td>\n",
              "      <td>-0.391679</td>\n",
              "      <td>0.175520</td>\n",
              "      <td>-0.412995</td>\n",
              "      <td>0.360445</td>\n",
              "    </tr>\n",
              "    <tr>\n",
              "      <th>INDUS</th>\n",
              "      <td>0.406583</td>\n",
              "      <td>-0.533828</td>\n",
              "      <td>1.000000</td>\n",
              "      <td>0.062938</td>\n",
              "      <td>0.763651</td>\n",
              "      <td>-0.391676</td>\n",
              "      <td>0.644779</td>\n",
              "      <td>-0.708027</td>\n",
              "      <td>0.595129</td>\n",
              "      <td>0.720760</td>\n",
              "      <td>0.383248</td>\n",
              "      <td>-0.356977</td>\n",
              "      <td>0.603800</td>\n",
              "      <td>-0.483725</td>\n",
              "    </tr>\n",
              "    <tr>\n",
              "      <th>CHAS</th>\n",
              "      <td>-0.055892</td>\n",
              "      <td>-0.042697</td>\n",
              "      <td>0.062938</td>\n",
              "      <td>1.000000</td>\n",
              "      <td>0.091203</td>\n",
              "      <td>0.091251</td>\n",
              "      <td>0.086518</td>\n",
              "      <td>-0.099176</td>\n",
              "      <td>-0.007368</td>\n",
              "      <td>-0.035587</td>\n",
              "      <td>-0.121515</td>\n",
              "      <td>0.048788</td>\n",
              "      <td>-0.053929</td>\n",
              "      <td>0.175260</td>\n",
              "    </tr>\n",
              "    <tr>\n",
              "      <th>NOX</th>\n",
              "      <td>0.420972</td>\n",
              "      <td>-0.516604</td>\n",
              "      <td>0.763651</td>\n",
              "      <td>0.091203</td>\n",
              "      <td>1.000000</td>\n",
              "      <td>-0.302188</td>\n",
              "      <td>0.731470</td>\n",
              "      <td>-0.769230</td>\n",
              "      <td>0.611441</td>\n",
              "      <td>0.668023</td>\n",
              "      <td>0.188933</td>\n",
              "      <td>-0.380051</td>\n",
              "      <td>0.590879</td>\n",
              "      <td>-0.427321</td>\n",
              "    </tr>\n",
              "    <tr>\n",
              "      <th>RM</th>\n",
              "      <td>-0.219247</td>\n",
              "      <td>0.311991</td>\n",
              "      <td>-0.391676</td>\n",
              "      <td>0.091251</td>\n",
              "      <td>-0.302188</td>\n",
              "      <td>1.000000</td>\n",
              "      <td>-0.240265</td>\n",
              "      <td>0.205246</td>\n",
              "      <td>-0.209847</td>\n",
              "      <td>-0.292048</td>\n",
              "      <td>-0.355501</td>\n",
              "      <td>0.128069</td>\n",
              "      <td>-0.613808</td>\n",
              "      <td>0.695360</td>\n",
              "    </tr>\n",
              "    <tr>\n",
              "      <th>AGE</th>\n",
              "      <td>0.352734</td>\n",
              "      <td>-0.569537</td>\n",
              "      <td>0.644779</td>\n",
              "      <td>0.086518</td>\n",
              "      <td>0.731470</td>\n",
              "      <td>-0.240265</td>\n",
              "      <td>1.000000</td>\n",
              "      <td>-0.747881</td>\n",
              "      <td>0.456022</td>\n",
              "      <td>0.506456</td>\n",
              "      <td>0.261515</td>\n",
              "      <td>-0.273534</td>\n",
              "      <td>0.602339</td>\n",
              "      <td>-0.376955</td>\n",
              "    </tr>\n",
              "    <tr>\n",
              "      <th>DIS</th>\n",
              "      <td>-0.379670</td>\n",
              "      <td>0.664408</td>\n",
              "      <td>-0.708027</td>\n",
              "      <td>-0.099176</td>\n",
              "      <td>-0.769230</td>\n",
              "      <td>0.205246</td>\n",
              "      <td>-0.747881</td>\n",
              "      <td>1.000000</td>\n",
              "      <td>-0.494588</td>\n",
              "      <td>-0.534432</td>\n",
              "      <td>-0.232471</td>\n",
              "      <td>0.291512</td>\n",
              "      <td>-0.496996</td>\n",
              "      <td>0.249929</td>\n",
              "    </tr>\n",
              "    <tr>\n",
              "      <th>RAD</th>\n",
              "      <td>0.625505</td>\n",
              "      <td>-0.311948</td>\n",
              "      <td>0.595129</td>\n",
              "      <td>-0.007368</td>\n",
              "      <td>0.611441</td>\n",
              "      <td>-0.209847</td>\n",
              "      <td>0.456022</td>\n",
              "      <td>-0.494588</td>\n",
              "      <td>1.000000</td>\n",
              "      <td>0.910228</td>\n",
              "      <td>0.464741</td>\n",
              "      <td>-0.444413</td>\n",
              "      <td>0.488676</td>\n",
              "      <td>-0.381626</td>\n",
              "    </tr>\n",
              "    <tr>\n",
              "      <th>TAX</th>\n",
              "      <td>0.582764</td>\n",
              "      <td>-0.314563</td>\n",
              "      <td>0.720760</td>\n",
              "      <td>-0.035587</td>\n",
              "      <td>0.668023</td>\n",
              "      <td>-0.292048</td>\n",
              "      <td>0.506456</td>\n",
              "      <td>-0.534432</td>\n",
              "      <td>0.910228</td>\n",
              "      <td>1.000000</td>\n",
              "      <td>0.460853</td>\n",
              "      <td>-0.441808</td>\n",
              "      <td>0.543993</td>\n",
              "      <td>-0.468536</td>\n",
              "    </tr>\n",
              "    <tr>\n",
              "      <th>PTRATIO</th>\n",
              "      <td>0.289946</td>\n",
              "      <td>-0.391679</td>\n",
              "      <td>0.383248</td>\n",
              "      <td>-0.121515</td>\n",
              "      <td>0.188933</td>\n",
              "      <td>-0.355501</td>\n",
              "      <td>0.261515</td>\n",
              "      <td>-0.232471</td>\n",
              "      <td>0.464741</td>\n",
              "      <td>0.460853</td>\n",
              "      <td>1.000000</td>\n",
              "      <td>-0.177383</td>\n",
              "      <td>0.374044</td>\n",
              "      <td>-0.507787</td>\n",
              "    </tr>\n",
              "    <tr>\n",
              "      <th>B</th>\n",
              "      <td>-0.385064</td>\n",
              "      <td>0.175520</td>\n",
              "      <td>-0.356977</td>\n",
              "      <td>0.048788</td>\n",
              "      <td>-0.380051</td>\n",
              "      <td>0.128069</td>\n",
              "      <td>-0.273534</td>\n",
              "      <td>0.291512</td>\n",
              "      <td>-0.444413</td>\n",
              "      <td>-0.441808</td>\n",
              "      <td>-0.177383</td>\n",
              "      <td>1.000000</td>\n",
              "      <td>-0.366087</td>\n",
              "      <td>0.333461</td>\n",
              "    </tr>\n",
              "    <tr>\n",
              "      <th>LSTAT</th>\n",
              "      <td>0.455621</td>\n",
              "      <td>-0.412995</td>\n",
              "      <td>0.603800</td>\n",
              "      <td>-0.053929</td>\n",
              "      <td>0.590879</td>\n",
              "      <td>-0.613808</td>\n",
              "      <td>0.602339</td>\n",
              "      <td>-0.496996</td>\n",
              "      <td>0.488676</td>\n",
              "      <td>0.543993</td>\n",
              "      <td>0.374044</td>\n",
              "      <td>-0.366087</td>\n",
              "      <td>1.000000</td>\n",
              "      <td>-0.737663</td>\n",
              "    </tr>\n",
              "    <tr>\n",
              "      <th>MEDV</th>\n",
              "      <td>-0.388305</td>\n",
              "      <td>0.360445</td>\n",
              "      <td>-0.483725</td>\n",
              "      <td>0.175260</td>\n",
              "      <td>-0.427321</td>\n",
              "      <td>0.695360</td>\n",
              "      <td>-0.376955</td>\n",
              "      <td>0.249929</td>\n",
              "      <td>-0.381626</td>\n",
              "      <td>-0.468536</td>\n",
              "      <td>-0.507787</td>\n",
              "      <td>0.333461</td>\n",
              "      <td>-0.737663</td>\n",
              "      <td>1.000000</td>\n",
              "    </tr>\n",
              "  </tbody>\n",
              "</table>\n",
              "</div>"
            ],
            "text/plain": [
              "             CRIM        ZN     INDUS  ...         B     LSTAT      MEDV\n",
              "CRIM     1.000000 -0.200469  0.406583  ... -0.385064  0.455621 -0.388305\n",
              "ZN      -0.200469  1.000000 -0.533828  ...  0.175520 -0.412995  0.360445\n",
              "INDUS    0.406583 -0.533828  1.000000  ... -0.356977  0.603800 -0.483725\n",
              "CHAS    -0.055892 -0.042697  0.062938  ...  0.048788 -0.053929  0.175260\n",
              "NOX      0.420972 -0.516604  0.763651  ... -0.380051  0.590879 -0.427321\n",
              "RM      -0.219247  0.311991 -0.391676  ...  0.128069 -0.613808  0.695360\n",
              "AGE      0.352734 -0.569537  0.644779  ... -0.273534  0.602339 -0.376955\n",
              "DIS     -0.379670  0.664408 -0.708027  ...  0.291512 -0.496996  0.249929\n",
              "RAD      0.625505 -0.311948  0.595129  ... -0.444413  0.488676 -0.381626\n",
              "TAX      0.582764 -0.314563  0.720760  ... -0.441808  0.543993 -0.468536\n",
              "PTRATIO  0.289946 -0.391679  0.383248  ... -0.177383  0.374044 -0.507787\n",
              "B       -0.385064  0.175520 -0.356977  ...  1.000000 -0.366087  0.333461\n",
              "LSTAT    0.455621 -0.412995  0.603800  ... -0.366087  1.000000 -0.737663\n",
              "MEDV    -0.388305  0.360445 -0.483725  ...  0.333461 -0.737663  1.000000\n",
              "\n",
              "[14 rows x 14 columns]"
            ]
          },
          "metadata": {
            "tags": []
          },
          "execution_count": 12
        }
      ]
    },
    {
      "cell_type": "markdown",
      "metadata": {
        "id": "PHEEWw3Z05uF",
        "colab_type": "text"
      },
      "source": [
        "###Q1.Consider LSTAT (% lower status of the population) as input and build a SLR Model to predict the MEDV"
      ]
    },
    {
      "cell_type": "code",
      "metadata": {
        "id": "CAfsFPD50rxo",
        "colab_type": "code",
        "colab": {}
      },
      "source": [
        "x=df[['LSTAT']]\n",
        "y=df['MEDV']"
      ],
      "execution_count": 13,
      "outputs": []
    },
    {
      "cell_type": "code",
      "metadata": {
        "id": "dEIrcRnv0-ga",
        "colab_type": "code",
        "colab": {}
      },
      "source": [
        "from sklearn.model_selection import train_test_split\n",
        "x_train,x_test,y_train,y_test=train_test_split(x,y,test_size=0.25,random_state=1)"
      ],
      "execution_count": 14,
      "outputs": []
    },
    {
      "cell_type": "code",
      "metadata": {
        "id": "X3-VukMO1CJA",
        "colab_type": "code",
        "colab": {
          "base_uri": "https://localhost:8080/",
          "height": 34
        },
        "outputId": "a1e38e1b-65bf-4c09-9121-7c17cf98f013"
      },
      "source": [
        "from sklearn.linear_model import LinearRegression\n",
        "LR=LinearRegression()\n",
        "LR.fit(x,y)"
      ],
      "execution_count": 15,
      "outputs": [
        {
          "output_type": "execute_result",
          "data": {
            "text/plain": [
              "LinearRegression(copy_X=True, fit_intercept=True, n_jobs=None, normalize=False)"
            ]
          },
          "metadata": {
            "tags": []
          },
          "execution_count": 15
        }
      ]
    },
    {
      "cell_type": "code",
      "metadata": {
        "id": "cF7WaTIz1FQk",
        "colab_type": "code",
        "colab": {
          "base_uri": "https://localhost:8080/",
          "height": 1000
        },
        "outputId": "21db0f0b-7181-4c51-af7a-c9e84e440d24"
      },
      "source": [
        "y_pred=LR.predict(x)\n",
        "y_pred"
      ],
      "execution_count": 16,
      "outputs": [
        {
          "output_type": "execute_result",
          "data": {
            "text/plain": [
              "array([29.8225951 , 25.87038979, 30.72514198, 31.76069578, 29.49007782,\n",
              "       29.60408375, 22.74472741, 16.36039575,  6.11886372, 18.30799693,\n",
              "       15.1253316 , 21.94668596, 19.62856553, 26.70643322, 24.80633451,\n",
              "       26.50692285, 28.30251613, 20.61661686, 23.44776393, 23.83728417,\n",
              "       14.58380346, 21.41465832, 16.76891698, 15.66685973, 19.06803641,\n",
              "       18.86852605, 20.48360995, 18.13698805, 22.39320915, 23.17224962,\n",
              "       13.08272548, 22.16519731,  8.22797329, 17.12043524, 15.22983702,\n",
              "       25.35736314, 23.71377775, 26.22190805, 24.92984093, 30.44962767,\n",
              "       32.67274316, 29.95560201, 29.03405413, 27.48547369, 25.48086955,\n",
              "       24.85383698, 21.11064252, 16.69291303,  5.28282029, 19.16304135,\n",
              "       21.77567707, 25.59487547, 29.53758029, 26.54492483, 20.49311044,\n",
              "       29.98410349, 29.07205611, 30.80114593, 28.03650231, 25.79438584,\n",
              "       22.06069188, 20.83512821, 28.16000873, 25.52837202, 26.90594358,\n",
              "       30.1171104 , 24.8253355 , 26.85844111, 22.11769484, 26.20290706,\n",
              "       28.16950922, 25.16735326, 29.30956845, 27.39046875, 28.11250626,\n",
              "       26.06039966, 23.18175011, 24.79683402, 22.83023185, 25.90839176,\n",
              "       29.5280798 , 27.69448455, 28.16950922, 27.41897023, 25.4143661 ,\n",
              "       28.3500186 , 22.33620619, 26.53542433, 29.32856943, 29.13855956,\n",
              "       26.18390607, 26.76343618, 26.80143815, 28.65403439, 24.49281822,\n",
              "       28.23601268, 23.78028121, 30.5541331 , 31.16216469, 28.67303538,\n",
              "       25.60437597, 27.26696234, 24.45481625, 21.78517756, 22.83973235,\n",
              "       18.90652802, 16.82591994, 21.16764548, 22.89673531, 19.78057343,\n",
              "       22.20319928, 24.90133945, 19.15354085, 18.31749742, 24.62582513,\n",
              "       19.58106306, 23.11524666, 24.76833254, 19.95158231, 21.62366917,\n",
              "       20.90163167, 20.9966366 , 17.51945597, 10.4130868 , 17.85197324,\n",
              "       20.48360995,  8.6554955 , 18.22249249, 19.93258133, 17.12993573,\n",
              "       22.58321902, 22.9062358 , 23.98929207, 20.27459909, 18.10848657,\n",
              "       18.44100384, 18.4980068 , 20.69262081, 14.29878866, 17.01592981,\n",
              "       11.60064849,  1.86264262,  9.07351721,  9.45353695,  6.72689531,\n",
              "        8.14246884, 18.73551914,  6.49888346,  7.64844318, 14.17528224,\n",
              "       21.15814499, 21.93718546, 23.03924271, 19.55256158, 20.18909465,\n",
              "       20.28409959, 19.22004431, 30.19311435, 28.44502353, 27.53297616,\n",
              "       29.32856943, 32.9102555 , 32.72974612, 31.39967702, 23.4952664 ,\n",
              "       25.23385672, 31.03865827, 23.02024172, 24.00829305, 23.79928219,\n",
              "       20.8446287 , 23.12474715, 20.59761587, 25.96539472, 25.39536511,\n",
              "       29.49007782, 24.94884191, 28.57803044, 27.97949935, 29.76559214,\n",
              "       27.37146776, 25.57587449, 29.97460299, 29.15756055, 21.27215091,\n",
              "       22.06069188, 30.32612126, 28.2075112 , 30.22161583, 29.43307486,\n",
              "       29.70858918, 30.09810941, 31.82719923, 29.77509263, 30.39262471,\n",
              "       31.7321943 , 30.67763952, 26.37391594, 28.26451416, 30.22161583,\n",
              "       30.32612126, 27.49497418, 31.59918739, 30.93415284, 31.81769874,\n",
              "       24.2268044 , 24.13179947, 17.39594955, 20.62611735, 12.6172013 ,\n",
              "       18.14648854, 11.77165738, 19.32454974, 25.64237794,  6.47988248,\n",
              "       25.5568735 , 21.71867411, 25.34786264, 17.52895646, 24.57832266,\n",
              "       25.32886165, 14.16578175, 25.1198508 , 27.33346579, 30.62063655,\n",
              "       30.15511237, 31.5801864 , 28.51152699, 30.82964741, 30.98165531,\n",
              "       23.48576591, 29.56608177, 32.20721898, 30.80114593, 26.90594358,\n",
              "       24.21730391, 25.49037004, 30.06010744, 28.51152699, 27.55197714,\n",
              "       23.74227923, 22.77322889, 23.89428713, 29.62308473, 22.67822396,\n",
              "       17.01592981, 25.8513888 , 24.91083994, 25.50937103, 28.32151712,\n",
              "       28.94854969, 31.1431637 , 31.20016666, 31.19066617, 28.31201663,\n",
              "       25.76588436, 31.59918739, 29.68958819, 27.15295641, 27.99850034,\n",
              "       25.44286758, 27.65648257, 28.9390492 , 23.86578565, 26.85844111,\n",
              "       24.62582513, 20.50261094, 27.48547369, 31.55168492, 21.5856672 ,\n",
              "       22.20319928, 28.29301564, 27.20995937, 28.30251613, 31.20016666,\n",
              "       31.72269381, 28.80604229, 30.60163557, 27.72298603, 29.94610151,\n",
              "       30.98165531, 30.19311435, 31.69419232, 31.55168492, 27.09595345,\n",
              "       26.7349347 , 22.26970274, 27.77048849, 27.33346579, 25.51887153,\n",
              "       31.39017653, 31.17166518, 30.08860892, 26.40241742, 24.6733276 ,\n",
              "       28.59703143, 27.53297616, 19.50505912, 29.83209559, 30.05060694,\n",
              "       28.7870413 , 25.52837202, 26.31691298, 29.93660102, 27.96999886,\n",
              "       26.06990015, 28.40702156, 27.39996925, 30.24061681, 25.08184882,\n",
              "       22.54521705, 28.87254574, 23.41926245, 27.04845098, 25.73738288,\n",
              "       23.62827331, 17.13943622, 19.41005418, 24.71132957, 22.45971261,\n",
              "       27.71348553, 28.02700182, 27.23846086, 23.40026147, 28.73953883,\n",
              "       29.72759016, 28.71103735, 22.40270964, 25.08184882, 27.58047862,\n",
              "       25.91789225, 22.74472741, 27.11495444, 29.15756055, 28.14100774,\n",
              "       26.94394556, 25.24335721, 24.5213197 , 26.46892088, 25.30036017,\n",
              "       25.72788238, 29.33806993, 26.33591397, 27.73248652, 30.17411336,\n",
              "       24.54982118, 22.51671557, 28.51152699, 28.86304525, 28.95805019,\n",
              "       28.87254574, 29.33806993, 27.15295641, 30.27861879, 26.90594358,\n",
              "       29.26206598, 17.83297225, 21.94668596, 23.6472743 , 22.51671557,\n",
              "       27.15295641, 21.07264055, 24.87283796, 20.64511834, 29.5280798 ,\n",
              "       27.78948948, 21.25314993, 21.88968299, 31.45667999, 31.01015679,\n",
              "       31.74169479, 25.49987054, 26.11740262,  1.52062485, -1.51953308,\n",
              "       21.78517756, 12.4746939 , 14.37479261, 12.04717169, 13.86176595,\n",
              "       18.2034915 , 14.5268005 , 12.13267613, 11.22062875,  5.45382917,\n",
              "        5.28282029,  7.68644516,  4.16176205,  5.46332967, 14.74531185,\n",
              "       18.29849644, 16.730915  , 10.15657347, 20.14159218, 19.02053395,\n",
              "       18.28899594, 16.1513849 , 15.62885775,  5.49183115,  6.08086175,\n",
              "        9.12101968, 15.24883801, 15.2583385 , 15.77136516,  8.54148957,\n",
              "       12.72170673, 12.37968896, 23.02974222,  9.47253794, 15.76186466,\n",
              "       24.94884191, 14.39379359,  1.90064459, 15.47684986, -0.57898422,\n",
              "        6.95490715, 10.05206805,  9.2445261 , 14.9638232 , 12.94971857,\n",
              "       20.28409959, 19.63806603, 21.15814499, 12.42719143, 18.25099397,\n",
              "       11.38213714, 19.64756652, 20.75912426, 14.10877879, 11.67665244,\n",
              "       17.79497028, 15.8473691 , 23.12474715, 19.14404036, 20.14159218,\n",
              "       12.44619242, 17.40545004,  9.42503547,  2.23316186, 12.81671167,\n",
              "       13.54824967, 16.00887749, 18.7925221 , 16.64541056, 11.95216675,\n",
              "       11.77165738, 17.65246288, 18.9350295 , 17.3294461 , 16.20838786,\n",
              "       17.98498015, 17.70946584, 18.14648854, 18.6500147 , 16.77841747,\n",
              "       17.3294461 , 16.49340266, 18.46000483, 19.13453987, 20.58811538,\n",
              "       18.95403049, 20.63561785, 21.26265042, 24.77783303, 21.99418842,\n",
              "       21.12964351, 18.26049446, 14.29878866, 17.3294461 , 20.53111242,\n",
              "       19.07753691, 22.3267057 , 20.91113216, 23.47626541, 17.3199456 ,\n",
              "       11.65765145, 16.80691895, 10.88811148, 17.42445103, 22.09869385,\n",
              "       24.35031082, 27.20045888, 27.89399491, 24.65432661, 21.8801825 ,\n",
              "       24.50231872, 20.32210156, 23.67577578, 17.39594955, 11.78115787,\n",
              "        6.35637606, 17.38644906, 21.87068201, 23.14374814, 21.64267016,\n",
              "       17.83297225, 14.46979754, 21.15814499, 22.27920323, 20.20809564,\n",
              "       20.93963364, 25.36686363, 25.92739275, 29.19556252, 28.39752107,\n",
              "       27.06745197])"
            ]
          },
          "metadata": {
            "tags": []
          },
          "execution_count": 16
        }
      ]
    },
    {
      "cell_type": "markdown",
      "metadata": {
        "id": "adq77ovz1PVH",
        "colab_type": "text"
      },
      "source": [
        "###Find the correlation by plotting a scatter plot between those two variables and write down the observations like how the variable are related to each other"
      ]
    },
    {
      "cell_type": "code",
      "metadata": {
        "id": "FkQ_4S2t1Iea",
        "colab_type": "code",
        "colab": {
          "base_uri": "https://localhost:8080/",
          "height": 296
        },
        "outputId": "5e3f433c-20c2-48be-b38c-6c50334f66a5"
      },
      "source": [
        "plt.scatter(x,y,color=\"red\")\n",
        "plt.plot(x,y_pred,color=\"black\")\n",
        "plt.xlabel(\"LSTAT I/P\")\n",
        "plt.ylabel(\"MEDV O/P\")"
      ],
      "execution_count": 17,
      "outputs": [
        {
          "output_type": "execute_result",
          "data": {
            "text/plain": [
              "Text(0, 0.5, 'MEDV O/P')"
            ]
          },
          "metadata": {
            "tags": []
          },
          "execution_count": 17
        },
        {
          "output_type": "display_data",
          "data": {
            "image/png": "[encoded data removed]",
            "text/plain": [
              "<Figure size 432x288 with 1 Axes>"
            ]
          },
          "metadata": {
            "tags": [],
            "needs_background": "light"
          }
        }
      ]
    },
    {
      "cell_type": "code",
      "metadata": {
        "id": "1u2kTHW-1TnF",
        "colab_type": "code",
        "colab": {}
      },
      "source": [
        "#Taking the LSTAT has input and MEDV has output\n",
        "#and scatter plot clearly shows that the LSAT and MEDV have strong negative correlation(-0.737663)"
      ],
      "execution_count": 18,
      "outputs": []
    },
    {
      "cell_type": "code",
      "metadata": {
        "id": "x8jvOINn1YNg",
        "colab_type": "code",
        "colab": {
          "base_uri": "https://localhost:8080/",
          "height": 51
        },
        "outputId": "d8b69808-c647-4b0b-91e4-9124c3bf5f3f"
      },
      "source": [
        "print(LR.intercept_)\n",
        "print(LR.coef_)"
      ],
      "execution_count": 19,
      "outputs": [
        {
          "output_type": "stream",
          "text": [
            "34.5538408793831\n",
            "[-0.95004935]\n"
          ],
          "name": "stdout"
        }
      ]
    },
    {
      "cell_type": "code",
      "metadata": {
        "id": "z0_OUfMW1c-k",
        "colab_type": "code",
        "colab": {
          "base_uri": "https://localhost:8080/",
          "height": 34
        },
        "outputId": "42c7bef8-571b-45b1-e6e2-a9307342df9a"
      },
      "source": [
        "from sklearn.metrics import r2_score\n",
        "r2_score(y,y_pred)"
      ],
      "execution_count": 20,
      "outputs": [
        {
          "output_type": "execute_result",
          "data": {
            "text/plain": [
              "0.5441462975864797"
            ]
          },
          "metadata": {
            "tags": []
          },
          "execution_count": 20
        }
      ]
    },
    {
      "cell_type": "markdown",
      "metadata": {
        "id": "0XSo67Fe2XXc",
        "colab_type": "text"
      },
      "source": [
        "###Q2.Consider  PTRATIO(pupil-teacher ratio by town) as input and build a SLR Model to predict the MEDV"
      ]
    },
    {
      "cell_type": "code",
      "metadata": {
        "id": "Q7VHRRTB1e-3",
        "colab_type": "code",
        "colab": {}
      },
      "source": [
        "p_x=df[['PTRATIO']]\n",
        "p_y=df['MEDV']"
      ],
      "execution_count": 21,
      "outputs": []
    },
    {
      "cell_type": "code",
      "metadata": {
        "id": "cC70tFqr2bUW",
        "colab_type": "code",
        "colab": {}
      },
      "source": [
        "from sklearn.model_selection import train_test_split\n",
        "p_x_train,p_x_test,p_y_train,p_y_test=train_test_split(p_x,p_y,test_size=0.25,random_state=1)"
      ],
      "execution_count": 22,
      "outputs": []
    },
    {
      "cell_type": "code",
      "metadata": {
        "id": "PiwJcICX2ds2",
        "colab_type": "code",
        "colab": {
          "base_uri": "https://localhost:8080/",
          "height": 34
        },
        "outputId": "7a75dbfc-d72c-442c-9499-989516ade7b1"
      },
      "source": [
        "from sklearn.linear_model import LinearRegression\n",
        "LR=LinearRegression()\n",
        "LR.fit(p_x,p_y)"
      ],
      "execution_count": 23,
      "outputs": [
        {
          "output_type": "execute_result",
          "data": {
            "text/plain": [
              "LinearRegression(copy_X=True, fit_intercept=True, n_jobs=None, normalize=False)"
            ]
          },
          "metadata": {
            "tags": []
          },
          "execution_count": 23
        }
      ]
    },
    {
      "cell_type": "code",
      "metadata": {
        "id": "WWwFs0eV2gYi",
        "colab_type": "code",
        "colab": {
          "base_uri": "https://localhost:8080/",
          "height": 1000
        },
        "outputId": "4ad6d844-0bf6-4dd9-f2fa-5cc6a6ce5d64"
      },
      "source": [
        "p_y_pred=LR.predict(p_x)\n",
        "p_y_pred"
      ],
      "execution_count": 24,
      "outputs": [
        {
          "output_type": "execute_result",
          "data": {
            "text/plain": [
              "array([29.33984545, 23.9469072 , 23.9469072 , 22.00544944, 22.00544944,\n",
              "       22.00544944, 29.55556297, 29.55556297, 29.55556297, 29.55556297,\n",
              "       29.55556297, 29.55556297, 29.55556297, 17.04394626, 17.04394626,\n",
              "       17.04394626, 17.04394626, 17.04394626, 17.04394626, 17.04394626,\n",
              "       17.04394626, 17.04394626, 17.04394626, 17.04394626, 17.04394626,\n",
              "       17.04394626, 17.04394626, 17.04394626, 17.04394626, 17.04394626,\n",
              "       17.04394626, 17.04394626, 17.04394626, 17.04394626, 17.04394626,\n",
              "       20.92686179, 20.92686179, 20.92686179, 20.92686179, 22.86831956,\n",
              "       22.86831956, 23.73118968, 23.73118968, 23.73118968, 23.73118968,\n",
              "       23.73118968, 23.73118968, 23.73118968, 23.73118968, 23.73118968,\n",
              "       26.1040825 , 26.1040825 , 26.1040825 , 26.1040825 , 16.82822873,\n",
              "       23.73118968, 25.02549485, 29.7712805 , 19.84827414, 19.84827414,\n",
              "       19.84827414, 19.84827414, 19.84827414, 19.84827414, 22.22116697,\n",
              "       27.61410521, 27.61410521, 21.57401438, 21.57401438, 21.57401438,\n",
              "       20.92686179, 20.92686179, 20.92686179, 20.92686179, 22.00544944,\n",
              "       22.00544944, 22.00544944, 22.00544944, 22.00544944, 22.00544944,\n",
              "       21.35829685, 21.35829685, 21.35829685, 21.35829685, 22.4368845 ,\n",
              "       22.4368845 , 22.4368845 , 22.4368845 , 23.9469072 , 23.9469072 ,\n",
              "       23.9469072 , 23.9469072 , 23.08403709, 23.08403709, 23.08403709,\n",
              "       23.51547215, 23.51547215, 23.51547215, 23.51547215, 23.51547215,\n",
              "       17.25966379, 17.25966379, 17.25966379, 17.25966379, 17.25966379,\n",
              "       17.25966379, 17.25966379, 17.25966379, 17.25966379, 17.25966379,\n",
              "       17.25966379, 23.9469072 , 23.9469072 , 23.9469072 , 23.9469072 ,\n",
              "       23.9469072 , 23.9469072 , 23.9469072 , 23.9469072 , 23.9469072 ,\n",
              "       21.14257932, 21.14257932, 21.14257932, 21.14257932, 21.14257932,\n",
              "       21.14257932, 21.14257932, 16.6125112 , 16.6125112 , 16.6125112 ,\n",
              "       16.6125112 , 16.6125112 , 16.6125112 , 16.6125112 , 16.6125112 ,\n",
              "       16.6125112 , 16.6125112 , 16.6125112 , 16.6125112 , 16.6125112 ,\n",
              "       16.6125112 , 16.6125112 , 30.63415062, 30.63415062, 30.63415062,\n",
              "       30.63415062, 30.63415062, 30.63415062, 30.63415062, 30.63415062,\n",
              "       30.63415062, 30.63415062, 30.63415062, 30.63415062, 30.63415062,\n",
              "       30.63415062, 30.63415062, 30.63415062, 30.63415062, 30.63415062,\n",
              "       30.63415062, 30.63415062, 30.63415062, 30.63415062, 30.63415062,\n",
              "       30.63415062, 30.63415062, 30.63415062, 30.63415062, 30.63415062,\n",
              "       30.63415062, 30.63415062, 26.53551756, 26.53551756, 26.53551756,\n",
              "       26.53551756, 26.53551756, 26.53551756, 26.53551756, 23.9469072 ,\n",
              "       23.9469072 , 23.9469072 , 23.9469072 , 23.9469072 , 23.9469072 ,\n",
              "       23.9469072 , 23.9469072 , 29.55556297, 29.55556297, 29.55556297,\n",
              "       29.55556297, 29.55556297, 29.55556297, 28.69269286, 28.69269286,\n",
              "       31.28130321, 35.16421874, 35.16421874, 35.16421874, 25.67264744,\n",
              "       25.67264744, 30.63415062, 30.63415062, 30.63415062, 30.63415062,\n",
              "       22.22116697, 22.22116697, 22.22116697, 22.22116697, 22.22116697,\n",
              "       22.22116697, 22.22116697, 22.22116697, 22.22116697, 22.22116697,\n",
              "       22.22116697, 26.96695262, 26.96695262, 26.96695262, 26.96695262,\n",
              "       24.80977732, 24.80977732, 24.80977732, 24.80977732, 24.80977732,\n",
              "       24.80977732, 24.80977732, 24.80977732, 24.80977732, 24.80977732,\n",
              "       24.80977732, 24.80977732, 24.80977732, 24.80977732, 24.80977732,\n",
              "       24.80977732, 24.80977732, 24.80977732, 26.53551756, 26.53551756,\n",
              "       26.53551756, 26.53551756, 26.53551756, 26.53551756, 21.14257932,\n",
              "       21.14257932, 21.14257932, 21.14257932, 21.14257932, 21.14257932,\n",
              "       21.14257932, 21.14257932, 21.14257932, 21.14257932, 26.96695262,\n",
              "       26.96695262, 28.04554027, 34.30134863, 34.30134863, 34.30134863,\n",
              "       34.30134863, 34.30134863, 34.30134863, 34.30134863, 34.30134863,\n",
              "       34.30134863, 34.30134863, 34.30134863, 34.30134863, 22.22116697,\n",
              "       22.22116697, 22.22116697, 22.22116697, 22.22116697, 24.37834226,\n",
              "       24.37834226, 24.37834226, 24.37834226, 24.37834226, 30.20271556,\n",
              "       30.20271556, 30.20271556, 30.20271556, 33.00704345, 29.33984545,\n",
              "       29.33984545, 23.08403709, 26.53551756, 26.53551756, 26.53551756,\n",
              "       20.92686179, 20.92686179, 20.92686179, 27.82982274, 27.82982274,\n",
              "       27.82982274, 27.82982274, 27.82982274, 30.41843309, 30.41843309,\n",
              "       30.41843309, 27.61410521, 27.61410521, 27.61410521, 22.65260203,\n",
              "       22.65260203, 22.65260203, 22.65260203, 22.65260203, 22.65260203,\n",
              "       22.65260203, 22.65260203, 22.65260203, 22.65260203, 22.65260203,\n",
              "       22.65260203, 22.65260203, 22.65260203, 22.65260203, 22.65260203,\n",
              "       20.06399167, 20.06399167, 20.06399167, 20.06399167, 20.06399167,\n",
              "       20.06399167, 20.06399167, 20.06399167, 25.88836497, 25.88836497,\n",
              "       25.88836497, 25.88836497, 25.88836497, 18.76968649, 18.76968649,\n",
              "       18.76968649, 18.76968649, 18.76968649, 18.76968649, 18.76968649,\n",
              "       18.76968649, 28.90841039, 28.04554027, 24.37834226, 24.37834226,\n",
              "       21.78973191, 21.78973191, 23.73118968, 25.67264744, 19.84827414,\n",
              "       19.84827414, 22.86831956, 22.86831956, 25.67264744, 14.88677096,\n",
              "       14.88677096, 18.76968649, 18.76968649, 18.76968649, 18.76968649,\n",
              "       18.76968649, 18.76968649, 18.76968649, 18.76968649, 18.76968649,\n",
              "       18.76968649, 18.76968649, 18.76968649, 18.76968649, 18.76968649,\n",
              "       18.76968649, 18.76968649, 18.76968649, 18.76968649, 18.76968649,\n",
              "       18.76968649, 18.76968649, 18.76968649, 18.76968649, 18.76968649,\n",
              "       18.76968649, 18.76968649, 18.76968649, 18.76968649, 18.76968649,\n",
              "       18.76968649, 18.76968649, 18.76968649, 18.76968649, 18.76968649,\n",
              "       18.76968649, 18.76968649, 18.76968649, 18.76968649, 18.76968649,\n",
              "       18.76968649, 18.76968649, 18.76968649, 18.76968649, 18.76968649,\n",
              "       18.76968649, 18.76968649, 18.76968649, 18.76968649, 18.76968649,\n",
              "       18.76968649, 18.76968649, 18.76968649, 18.76968649, 18.76968649,\n",
              "       18.76968649, 18.76968649, 18.76968649, 18.76968649, 18.76968649,\n",
              "       18.76968649, 18.76968649, 18.76968649, 18.76968649, 18.76968649,\n",
              "       18.76968649, 18.76968649, 18.76968649, 18.76968649, 18.76968649,\n",
              "       18.76968649, 18.76968649, 18.76968649, 18.76968649, 18.76968649,\n",
              "       18.76968649, 18.76968649, 18.76968649, 18.76968649, 18.76968649,\n",
              "       18.76968649, 18.76968649, 18.76968649, 18.76968649, 18.76968649,\n",
              "       18.76968649, 18.76968649, 18.76968649, 18.76968649, 18.76968649,\n",
              "       18.76968649, 18.76968649, 18.76968649, 18.76968649, 18.76968649,\n",
              "       18.76968649, 18.76968649, 18.76968649, 18.76968649, 18.76968649,\n",
              "       18.76968649, 18.76968649, 18.76968649, 18.76968649, 18.76968649,\n",
              "       18.76968649, 18.76968649, 18.76968649, 18.76968649, 18.76968649,\n",
              "       18.76968649, 18.76968649, 18.76968649, 18.76968649, 18.76968649,\n",
              "       18.76968649, 18.76968649, 18.76968649, 18.76968649, 18.76968649,\n",
              "       18.76968649, 18.76968649, 18.76968649, 18.76968649, 18.76968649,\n",
              "       18.76968649, 18.76968649, 18.76968649, 18.76968649, 18.76968649,\n",
              "       18.76968649, 18.76968649, 18.76968649, 18.98540402, 18.98540402,\n",
              "       18.98540402, 18.98540402, 18.98540402, 20.92686179, 20.92686179,\n",
              "       20.92686179, 20.92686179, 20.92686179, 20.92686179, 20.92686179,\n",
              "       20.92686179, 17.04394626, 17.04394626, 17.04394626, 17.04394626,\n",
              "       17.04394626])"
            ]
          },
          "metadata": {
            "tags": []
          },
          "execution_count": 24
        }
      ]
    },
    {
      "cell_type": "code",
      "metadata": {
        "id": "8wJXc23b2jKy",
        "colab_type": "code",
        "colab": {
          "base_uri": "https://localhost:8080/",
          "height": 296
        },
        "outputId": "98ea75a6-ee71-4b33-9b31-194694cb15ed"
      },
      "source": [
        "plt.scatter(p_x,p_y,color=\"red\")\n",
        "plt.plot(p_x,p_y_pred,color=\"black\")\n",
        "plt.xlabel(\"PTRATIO I/P\")\n",
        "plt.ylabel(\"MEDV O/P\")"
      ],
      "execution_count": 25,
      "outputs": [
        {
          "output_type": "execute_result",
          "data": {
            "text/plain": [
              "Text(0, 0.5, 'MEDV O/P')"
            ]
          },
          "metadata": {
            "tags": []
          },
          "execution_count": 25
        },
        {
          "output_type": "display_data",
          "data": {
            "image/png": "[encoded data removed]",
            "text/plain": [
              "<Figure size 432x288 with 1 Axes>"
            ]
          },
          "metadata": {
            "tags": [],
            "needs_background": "light"
          }
        }
      ]
    },
    {
      "cell_type": "code",
      "metadata": {
        "id": "nPDEJVzc2l2t",
        "colab_type": "code",
        "colab": {}
      },
      "source": [
        "#Taking the PTRATIO has input and MEDV has output\n",
        "#and scatter plot clearly shows that the PTRATIO and MEDV have moderate negative correlation(-0.507787)"
      ],
      "execution_count": 26,
      "outputs": []
    },
    {
      "cell_type": "code",
      "metadata": {
        "id": "Cv_jJZz62ozz",
        "colab_type": "code",
        "colab": {
          "base_uri": "https://localhost:8080/",
          "height": 51
        },
        "outputId": "928f709c-eca0-4335-cf93-1986ade581a1"
      },
      "source": [
        "print(LR.intercept_)\n",
        "print(LR.coef_)"
      ],
      "execution_count": 27,
      "outputs": [
        {
          "output_type": "stream",
          "text": [
            "62.34462747483265\n",
            "[-2.1571753]\n"
          ],
          "name": "stdout"
        }
      ]
    },
    {
      "cell_type": "code",
      "metadata": {
        "id": "ZZneCFzI2rK-",
        "colab_type": "code",
        "colab": {
          "base_uri": "https://localhost:8080/",
          "height": 34
        },
        "outputId": "447836ab-50a2-4a94-f2cc-3156c0f1fcaf"
      },
      "source": [
        "from sklearn.metrics import r2_score\n",
        "r2_score(p_y,p_y_pred)"
      ],
      "execution_count": 28,
      "outputs": [
        {
          "output_type": "execute_result",
          "data": {
            "text/plain": [
              "0.257847318009223"
            ]
          },
          "metadata": {
            "tags": []
          },
          "execution_count": 28
        }
      ]
    },
    {
      "cell_type": "markdown",
      "metadata": {
        "id": "B-3aEFg02xTb",
        "colab_type": "text"
      },
      "source": [
        "###Q3.Consider AGE(proportion of owner-occupied units built prior to 1940) as input and build a SLR Model to predict the MEDV"
      ]
    },
    {
      "cell_type": "code",
      "metadata": {
        "id": "BFTCRli52to_",
        "colab_type": "code",
        "colab": {}
      },
      "source": [
        "a_x=df[['AGE']]\n",
        "a_y=df['MEDV']"
      ],
      "execution_count": 29,
      "outputs": []
    },
    {
      "cell_type": "code",
      "metadata": {
        "id": "EMGYhI5022TS",
        "colab_type": "code",
        "colab": {}
      },
      "source": [
        "from sklearn.model_selection import train_test_split\n",
        "a_x_train,a_x_test,a_y_train,a_y_test=train_test_split(a_x,a_y,test_size=0.25,random_state=1)"
      ],
      "execution_count": 30,
      "outputs": []
    },
    {
      "cell_type": "code",
      "metadata": {
        "id": "fmtSEDfe24cy",
        "colab_type": "code",
        "colab": {}
      },
      "source": [
        "from sklearn.linear_model import LinearRegression\n",
        "LR=LinearRegression()"
      ],
      "execution_count": 31,
      "outputs": []
    },
    {
      "cell_type": "code",
      "metadata": {
        "id": "I_6Yq_Hj26xf",
        "colab_type": "code",
        "colab": {
          "base_uri": "https://localhost:8080/",
          "height": 34
        },
        "outputId": "a6ef3061-e285-4666-bc1e-14b6da303b36"
      },
      "source": [
        "LR.fit(a_x,a_y)"
      ],
      "execution_count": 32,
      "outputs": [
        {
          "output_type": "execute_result",
          "data": {
            "text/plain": [
              "LinearRegression(copy_X=True, fit_intercept=True, n_jobs=None, normalize=False)"
            ]
          },
          "metadata": {
            "tags": []
          },
          "execution_count": 32
        }
      ]
    },
    {
      "cell_type": "code",
      "metadata": {
        "id": "beiR1FRp28vS",
        "colab_type": "code",
        "colab": {
          "base_uri": "https://localhost:8080/",
          "height": 1000
        },
        "outputId": "4398a6c2-c1a1-45ea-f388-67934b425358"
      },
      "source": [
        "a_y_pred=LR.predict(a_x)\n",
        "a_y_pred"
      ],
      "execution_count": 33,
      "outputs": [
        {
          "output_type": "execute_result",
          "data": {
            "text/plain": [
              "array([22.94846834, 21.26113906, 23.4534355 , 25.33782513, 24.30325827,\n",
              "       23.74902603, 22.77604053, 19.14274025, 18.66240564, 20.39900001,\n",
              "       19.36443315, 20.76848817, 26.17533163, 23.36722159, 20.57142782,\n",
              "       24.01998401, 27.37001003, 20.91628344, 26.47092217, 22.41886864,\n",
              "       18.89641481, 19.99256303, 19.68465623, 18.66240564, 19.38906569,\n",
              "       20.42363255, 19.85708404, 20.04182812, 19.35211688, 20.2265722 ,\n",
              "       19.38906569, 18.66240564, 20.87933462, 19.27821925, 19.04421007,\n",
              "       22.57898017, 23.41648668, 25.86742483, 27.25916358, 28.29373044,\n",
              "       29.03270677, 30.62150587, 30.1658038 , 30.17812007, 26.05216891,\n",
              "       26.81577778, 26.87735915, 20.4482651 , 19.24127043, 23.34258905,\n",
              "       25.3501414 , 23.21942632, 28.37994434, 28.34299553, 25.11613223,\n",
              "       28.28141417, 26.58176861, 25.99058755, 27.3823263 , 25.16539732,\n",
              "       22.82530562, 19.4752796 , 22.62824526, 25.63341566, 23.65049585,\n",
              "       28.78638132, 27.14831713, 28.34299553, 26.44628962, 26.91430796,\n",
              "       30.1658038 , 28.82333014, 30.01800854, 30.21506889, 30.23970144,\n",
              "       25.43635531, 21.80305503, 25.33782513, 24.36483963, 26.47092217,\n",
              "       26.8527266 , 22.30802219, 27.01283814, 25.22697868, 25.06686714,\n",
              "       24.0692491 , 25.42403903, 23.9830352 , 20.34973492, 23.20711005,\n",
              "       22.83762189, 21.87695266, 24.3771559 , 27.41927512, 21.45819941,\n",
              "       23.85987248, 22.40655236, 21.61831095, 26.43397335, 23.28100769,\n",
              "       21.13797634, 22.19717574, 20.46058137, 20.21425593, 19.89403285,\n",
              "       19.06884262, 19.66002368, 20.48521391, 19.01957753, 19.74623759,\n",
              "       24.27862573, 20.92859971, 19.53686096, 19.22895416, 20.60837663,\n",
              "       20.11572575, 22.04938047, 20.80543699, 21.97548284, 22.94846834,\n",
              "       22.39423609, 20.62069291, 19.53686096, 19.0318938 , 19.17968907,\n",
              "       20.09109321, 19.20432161, 19.15505652, 18.8102009 , 19.31516806,\n",
              "       18.79788463, 18.9456799 , 18.92104735, 19.22895416, 18.85946599,\n",
              "       18.88409854, 19.46296333, 18.85946599, 18.88409854, 18.92104735,\n",
              "       19.45064705, 18.66240564, 18.66240564, 18.66240564, 18.93336363,\n",
              "       18.66240564, 18.66240564, 19.19200534, 19.42601451, 19.29053552,\n",
              "       18.99494499, 18.66240564, 20.14035829, 18.84714972, 19.15505652,\n",
              "       20.80543699, 19.40138197, 18.98262871, 18.66240564, 18.66240564,\n",
              "       19.57380978, 19.79550267, 18.88409854, 19.41369824, 19.67233995,\n",
              "       19.52454469, 19.13042398, 21.22419024, 19.14274025, 19.2535867 ,\n",
              "       19.32748433, 18.99494499, 20.07877693, 20.62069291, 22.51739881,\n",
              "       26.90199169, 25.16539732, 21.93853402, 21.8153713 , 23.78597484,\n",
              "       20.71922308, 23.3179565 , 19.62307486, 19.20432161, 19.9186654 ,\n",
              "       22.50508254, 24.3771559 , 25.91668992, 27.39464257, 26.18764791,\n",
              "       28.33067926, 27.18526595, 27.73949819, 29.75936682, 28.6632186 ,\n",
              "       27.03747068, 26.77882897, 26.47092217, 26.26154554, 29.09428813,\n",
              "       29.26671594, 26.24922927, 29.04502304, 26.88967542, 27.04978696,\n",
              "       28.23214908, 24.5126349 , 22.02474793, 23.69976094, 18.66240564,\n",
              "       19.63539114, 20.06646066, 24.35252336, 27.00052187, 29.77168309,\n",
              "       25.75657838, 24.08156537, 20.49753019, 19.42601451, 19.59844232,\n",
              "       20.07877693, 19.73392131, 21.40893432, 21.02712989, 21.33503669,\n",
              "       20.7561719 , 20.32510238, 21.13797634, 28.8849115 , 28.34299553,\n",
              "       22.59129645, 21.5074645 , 21.9508503 , 22.30802219, 22.7883568 ,\n",
              "       23.40417041, 21.55672959, 22.16022692, 28.70016742, 25.78121093,\n",
              "       24.290942  , 22.96078461, 24.46336981, 30.01800854, 21.55672959,\n",
              "       22.33265473, 26.68029879, 21.22419024, 24.93138815, 28.82333014,\n",
              "       29.37756239, 29.88252954, 30.14117126, 29.9441109 , 27.03747068,\n",
              "       28.62626979, 26.7665127 , 20.27583729, 18.66240564, 18.66240564,\n",
              "       20.90396717, 19.96793048, 19.70928877, 19.33980061, 19.6969725 ,\n",
              "       23.24405887, 20.55911155, 22.72677544, 24.50031863, 23.40417041,\n",
              "       25.7935272 , 28.97112541, 23.74902603, 24.5988488 , 26.92662423,\n",
              "       25.70731329, 24.94370442, 27.57938666, 27.02515441, 27.01283814,\n",
              "       23.03468224, 26.39702453, 24.85749052, 27.92424228, 28.41689316,\n",
              "       27.04978696, 27.09905204, 27.12368459, 25.36245767, 28.15825145,\n",
              "       27.54243784, 27.56707038, 28.09667009, 28.71248369, 25.76889465,\n",
              "       27.14831713, 24.69737898, 23.83523993, 28.50310707, 29.74705055,\n",
              "       25.14076478, 26.00290382, 28.71248369, 28.7986976 , 25.91668992,\n",
              "       23.82292366, 22.12327811, 22.32033846, 20.81775326, 21.53209704,\n",
              "       26.3231269 , 24.47568608, 19.84476776, 20.78080444, 20.2265722 ,\n",
              "       21.40893432, 20.73153936, 22.14791065, 22.7021429 , 23.73670975,\n",
              "       24.53726744, 24.290942  , 24.83285797, 21.82768757, 26.03985264,\n",
              "       29.16818576, 27.41927512, 25.59646684, 27.80107955, 28.86027896,\n",
              "       27.01283814, 27.48085648, 28.10898636, 26.28617808, 26.236913  ,\n",
              "       26.72956388, 25.27624377, 23.63817958, 26.38470826, 25.38709022,\n",
              "       23.77365857, 24.90675561, 23.6258633 , 24.03230028, 27.5178053 ,\n",
              "       25.00528578, 24.53726744, 27.56707038, 27.32074494, 26.72956388,\n",
              "       25.51025294, 26.55713607, 28.70016742, 26.53250353, 28.28141417,\n",
              "       28.5770047 , 18.98262871, 19.77087013, 20.70690681, 20.96554853,\n",
              "       20.14035829, 19.75855386, 19.13042398, 20.01719557, 20.76848817,\n",
              "       20.15267457, 19.72160504, 18.66240564, 18.66240564, 19.05652635,\n",
              "       18.97031244, 18.66240564, 19.94329794, 18.66240564, 18.66240564,\n",
              "       18.92104735, 19.48759587, 18.8102009 , 19.13042398, 18.66240564,\n",
              "       19.66002368, 18.77325209, 18.66240564, 18.66240564, 19.74623759,\n",
              "       18.89641481, 18.66240564, 19.95561421, 18.66240564, 18.79788463,\n",
              "       19.0318938 , 20.81775326, 19.0318938 , 19.57380978, 19.31516806,\n",
              "       18.8102009 , 19.15505652, 18.79788463, 18.66240564, 21.39661805,\n",
              "       18.66240564, 18.66240564, 18.66240564, 19.15505652, 20.46058137,\n",
              "       18.66240564, 18.66240564, 18.66240564, 18.92104735, 18.66240564,\n",
              "       18.66240564, 18.66240564, 18.66240564, 18.66240564, 18.66240564,\n",
              "       18.66240564, 19.79550267, 20.0048793 , 18.66240564, 21.55672959,\n",
              "       18.66240564, 19.24127043, 20.18962338, 20.49753019, 22.28338964,\n",
              "       19.22895416, 23.6258633 , 21.2857716 , 21.35966923, 19.20432161,\n",
              "       20.37436746, 19.36443315, 21.76610621, 20.15267457, 19.27821925,\n",
              "       19.32748433, 19.48759587, 18.66240564, 20.15267457, 19.41369824,\n",
              "       19.59844232, 19.00726126, 18.66240564, 18.66240564, 19.08115889,\n",
              "       19.30285179, 19.10579144, 19.08115889, 18.82251718, 18.87178227,\n",
              "       19.57380978, 18.88409854, 19.67233995, 18.74861954, 19.38906569,\n",
              "       20.32510238, 20.15267457, 21.08871125, 20.669958  , 20.58374409,\n",
              "       19.89403285, 20.09109321, 20.7561719 , 19.90634912, 22.92383579,\n",
              "       25.0422346 , 20.54679527, 19.33980061, 22.23412455, 23.99535147,\n",
              "       20.63300918, 19.80781895, 21.74147367, 22.65287781, 19.22895416,\n",
              "       18.98262871, 19.45064705, 18.99494499, 19.06884262, 20.14035829,\n",
              "       23.0100497 , 21.75378994, 21.49514823, 26.0152201 , 25.81815974,\n",
              "       24.58653253, 21.15029261, 24.42642099, 19.5614935 , 18.87178227,\n",
              "       18.90873108, 18.8102009 , 20.69459054, 24.32789082, 25.73194584,\n",
              "       27.43159139, 22.00011538, 22.28338964, 22.93615207, 21.92621775,\n",
              "       21.16260888, 22.46813373, 21.53209704, 19.77087013, 19.98024676,\n",
              "       21.02712989])"
            ]
          },
          "metadata": {
            "tags": []
          },
          "execution_count": 33
        }
      ]
    },
    {
      "cell_type": "code",
      "metadata": {
        "id": "A8YG3Xsz3BFf",
        "colab_type": "code",
        "colab": {
          "base_uri": "https://localhost:8080/",
          "height": 296
        },
        "outputId": "d9c5c407-2e48-423a-d03b-d6c1d0b2f985"
      },
      "source": [
        "plt.scatter(a_x,a_y,color=\"red\")\n",
        "plt.plot(a_x,a_y_pred,color=\"black\")\n",
        "plt.xlabel(\"AGE I/P\")\n",
        "plt.ylabel(\"MEDV O/P\")"
      ],
      "execution_count": 34,
      "outputs": [
        {
          "output_type": "execute_result",
          "data": {
            "text/plain": [
              "Text(0, 0.5, 'MEDV O/P')"
            ]
          },
          "metadata": {
            "tags": []
          },
          "execution_count": 34
        },
        {
          "output_type": "display_data",
          "data": {
            "image/png": "[encoded data removed]",
            "text/plain": [
              "<Figure size 432x288 with 1 Axes>"
            ]
          },
          "metadata": {
            "tags": [],
            "needs_background": "light"
          }
        }
      ]
    },
    {
      "cell_type": "code",
      "metadata": {
        "id": "bq0oN3t43EOE",
        "colab_type": "code",
        "colab": {}
      },
      "source": [
        "##Taking the AGE has input and MEDV has output\n",
        "#and scatter plot clearly shows that the AGE and MEDV have weak negative correlation(-0.376955)"
      ],
      "execution_count": 35,
      "outputs": []
    },
    {
      "cell_type": "code",
      "metadata": {
        "id": "Nsks80Qk3MGX",
        "colab_type": "code",
        "colab": {
          "base_uri": "https://localhost:8080/",
          "height": 51
        },
        "outputId": "2a20621d-736d-454d-c93a-57fb20705074"
      },
      "source": [
        "print(LR.intercept_)\n",
        "print(LR.coef_)"
      ],
      "execution_count": 36,
      "outputs": [
        {
          "output_type": "stream",
          "text": [
            "30.97867776261804\n",
            "[-0.12316272]\n"
          ],
          "name": "stdout"
        }
      ]
    },
    {
      "cell_type": "code",
      "metadata": {
        "id": "Sq5KdED_3OU4",
        "colab_type": "code",
        "colab": {
          "base_uri": "https://localhost:8080/",
          "height": 34
        },
        "outputId": "99e1cb41-2374-4b4e-e06b-1f0d4bb173f0"
      },
      "source": [
        "from sklearn.metrics import r2_score\n",
        "r2_score(a_y,a_y_pred)"
      ],
      "execution_count": 37,
      "outputs": [
        {
          "output_type": "execute_result",
          "data": {
            "text/plain": [
              "0.14209474407780442"
            ]
          },
          "metadata": {
            "tags": []
          },
          "execution_count": 37
        }
      ]
    },
    {
      "cell_type": "code",
      "metadata": {
        "id": "qlmCrEF-3RdE",
        "colab_type": "code",
        "colab": {}
      },
      "source": [
        ""
      ],
      "execution_count": null,
      "outputs": []
    }
  ]
}