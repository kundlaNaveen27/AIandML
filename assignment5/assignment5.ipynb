{
  "nbformat": 4,
  "nbformat_minor": 0,
  "metadata": {
    "colab": {
      "name": "assignment5.ipynb",
      "provenance": []
    },
    "kernelspec": {
      "name": "python3",
      "display_name": "Python 3"
    }
  },
  "cells": [
    {
      "cell_type": "code",
      "metadata": {
        "id": "g_bZXmMJo1w3",
        "colab_type": "code",
        "colab": {
          "base_uri": "https://localhost:8080/",
          "height": 119
        },
        "outputId": "a714ef7f-e37b-4949-c0e3-9840898ac439"
      },
      "source": [
        "l1=[\"old\",\"young\",\"beautiful\",\"chubby\",\"clean\",\"attractive\",\"drab\",\"elegant\",\"fancy\",\"fit\"]\n",
        "l2=[\"area\",\"book\",\"business\",\"name\",\"child\",\"company\",\"country\",\"day\",\"eye\",\"fact\"]\n",
        "l3=[\"!\",\"@\",\"#\",\"$\",\"%\",\"*\"]\n",
        "import random\n",
        "while True:\n",
        "    x=str(random.choice(l1))\n",
        "    y=str(random.choice(l2))\n",
        "    z=str(random.randint(0,100))\n",
        "    r=str(random.choice(l3))\n",
        "    print(str(x+y+z+r))\n",
        "    pwd=input(\"do you want another password \")\n",
        "    if pwd==\"no\":\n",
        "        break\n",
        "    else:\n",
        "        continue"
      ],
      "execution_count": 2,
      "outputs": [
        {
          "output_type": "stream",
          "text": [
            "attractivebook60$\n",
            "do you want another password yes\n",
            "beautifulcountry18#\n",
            "do you want another password yes\n",
            "chubbyname94%\n",
            "do you want another password no\n"
          ],
          "name": "stdout"
        }
      ]
    },
    {
      "cell_type": "code",
      "metadata": {
        "id": "Ui-sb0izpe-J",
        "colab_type": "code",
        "colab": {}
      },
      "source": [
        "yes"
      ],
      "execution_count": 0,
      "outputs": []
    }
  ]
}