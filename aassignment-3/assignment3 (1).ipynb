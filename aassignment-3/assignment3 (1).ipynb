{
  "nbformat": 4,
  "nbformat_minor": 0,
  "metadata": {
    "colab": {
      "name": "assignment3",
      "provenance": []
    },
    "kernelspec": {
      "name": "python3",
      "display_name": "Python 3"
    }
  },
  "cells": [
    {
      "cell_type": "code",
      "metadata": {
        "id": "FiAbZBUPjEzw",
        "colab_type": "code",
        "colab": {
          "base_uri": "https://localhost:8080/",
          "height": 51
        },
        "outputId": "83be204d-7ae9-4eca-ee86-0786e869c71a"
      },
      "source": [
        "#1\n",
        "def recur_factorial(n):  \n",
        "   if n == 1:  \n",
        "       return n  \n",
        "   else:  \n",
        "       return n*recur_factorial(n-1)  \n",
        "num = int(input(\"Enter a number: \"))  \n",
        "if num == 0:  \n",
        "   print(\"The factorial of 0 is 1\")  \n",
        "else:  \n",
        "   print(\"The factorial of\",num,\"is\",recur_factorial(num))\n"
      ],
      "execution_count": 1,
      "outputs": [
        {
          "output_type": "stream",
          "text": [
            "Enter a number: 6\n",
            "The factorial of 6 is 720\n"
          ],
          "name": "stdout"
        }
      ]
    },
    {
      "cell_type": "code",
      "metadata": {
        "id": "MR4aiw8xjfmm",
        "colab_type": "code",
        "colab": {
          "base_uri": "https://localhost:8080/",
          "height": 136
        },
        "outputId": "b484832d-bc73-48e2-b04c-d560934e89a0"
      },
      "source": [
        "#2\n",
        "def recur_fibo(n):  \n",
        "   if n <= 1:  \n",
        "       return n  \n",
        "   else:  \n",
        "       return(recur_fibo(n-1) + recur_fibo(n-2))   \n",
        "nterms = int(input(\"enter a value \"))  \n",
        "if nterms <= 0:  \n",
        "   print(\"enter a number\")  \n",
        "else:  \n",
        "   print(\"Fibonacci sequence:\")  \n",
        "   for i in range(nterms):  \n",
        "       print(recur_fibo(i))\n"
      ],
      "execution_count": 2,
      "outputs": [
        {
          "output_type": "stream",
          "text": [
            "enter a value 5\n",
            "Fibonacci sequence:\n",
            "0\n",
            "1\n",
            "1\n",
            "2\n",
            "3\n"
          ],
          "name": "stdout"
        }
      ]
    },
    {
      "cell_type": "code",
      "metadata": {
        "id": "FwdhbX_mjsbH",
        "colab_type": "code",
        "colab": {
          "base_uri": "https://localhost:8080/",
          "height": 34
        },
        "outputId": "e79833e5-e8cb-43bc-883a-d12564b94f6b"
      },
      "source": [
        "3\n",
        "list1 = [10,20] \n",
        "sum = 0; \n",
        "for i in range(0,len(list1)):\n",
        "    sum=sum+list1[i] \n",
        "print(sum)\n"
      ],
      "execution_count": 3,
      "outputs": [
        {
          "output_type": "stream",
          "text": [
            "30\n"
          ],
          "name": "stdout"
        }
      ]
    },
    {
      "cell_type": "code",
      "metadata": {
        "id": "YC6NtAFYkFqI",
        "colab_type": "code",
        "colab": {
          "base_uri": "https://localhost:8080/",
          "height": 34
        },
        "outputId": "2fd571be-4438-4b67-d5cd-bca103e7c3d8"
      },
      "source": [
        "#4\n",
        "list1 = [11,23,45,23,64,22,11,24]\n",
        "for num in list1:\n",
        "    if num % 2 == 0:\n",
        "        print(num, end = \" \")\n"
      ],
      "execution_count": 4,
      "outputs": [
        {
          "output_type": "stream",
          "text": [
            "64 22 24 "
          ],
          "name": "stdout"
        }
      ]
    },
    {
      "cell_type": "code",
      "metadata": {
        "id": "NDU55lgPkQnP",
        "colab_type": "code",
        "colab": {
          "base_uri": "https://localhost:8080/",
          "height": 51
        },
        "outputId": "79c0e195-8b9e-48fa-a189-eee1a11ec296"
      },
      "source": [
        "#5\n",
        "l1=[10,20,4,5,66,89,10001,11,79]\n",
        "s=l1[0]\n",
        "for i in range(0,len(l1)):\n",
        "    if l1[i]<s:\n",
        "        a=l1[i]\n",
        "        ind=i     \n",
        "print(a)\n",
        "print(ind+1)\n"
      ],
      "execution_count": 6,
      "outputs": [
        {
          "output_type": "stream",
          "text": [
            "5\n",
            "4\n"
          ],
          "name": "stdout"
        }
      ]
    },
    {
      "cell_type": "code",
      "metadata": {
        "id": "eMgdWMljk3Ih",
        "colab_type": "code",
        "colab": {
          "base_uri": "https://localhost:8080/",
          "height": 34
        },
        "outputId": "0ef5142c-286a-4664-fd43-65479e461dd2"
      },
      "source": [
        "#6\n",
        "def isPalindrome(string):\n",
        "    left_pos = 0\n",
        "    right_pos = len(string) - 1\n",
        "    while right_pos >= left_pos:\n",
        "        if not string[left_pos] == string[right_pos]:\n",
        "            return False\n",
        "        left_pos += 1\n",
        "        right_pos -= 1\n",
        "        return True\n",
        "print(isPalindrome('wow'))\n",
        "\n"
      ],
      "execution_count": 7,
      "outputs": [
        {
          "output_type": "stream",
          "text": [
            "True\n"
          ],
          "name": "stdout"
        }
      ]
    },
    {
      "cell_type": "code",
      "metadata": {
        "id": "fbmJt6u3mOVY",
        "colab_type": "code",
        "colab": {
          "base_uri": "https://localhost:8080/",
          "height": 51
        },
        "outputId": "f754c301-6cd8-4632-c1ee-4c1493efa5b7"
      },
      "source": [
        "#7\n",
        "numbers = (1, 2, 3, 4, 5, 6, 17, 19,21) \n",
        "count_odd = 0\n",
        "count_even = 0\n",
        "for x in numbers:\n",
        "        if not x % 2:\n",
        "            count_even+=1\n",
        "        else:\n",
        "            count_odd+=1\n",
        "print(\"Number of even numbers :\",count_even)\n",
        "print(\"Number of odd numbers :\",count_odd)\n"
      ],
      "execution_count": 10,
      "outputs": [
        {
          "output_type": "stream",
          "text": [
            "Number of even numbers : 3\n",
            "Number of odd numbers : 6\n"
          ],
          "name": "stdout"
        }
      ]
    },
    {
      "cell_type": "code",
      "metadata": {
        "id": "5kKcRnu9mbIx",
        "colab_type": "code",
        "colab": {
          "base_uri": "https://localhost:8080/",
          "height": 102
        },
        "outputId": "e94f4598-0d6c-4d40-a980-553b67efcac8"
      },
      "source": [
        "#8\n",
        "\n",
        "for x in range(0,7):\n",
        "  if x ==3 or x == 6:\n",
        "    continue\n",
        "  print(x)"
      ],
      "execution_count": 14,
      "outputs": [
        {
          "output_type": "stream",
          "text": [
            "0\n",
            "1\n",
            "2\n",
            "4\n",
            "5\n"
          ],
          "name": "stdout"
        }
      ]
    },
    {
      "cell_type": "code",
      "metadata": {
        "id": "t2VMK_APmopy",
        "colab_type": "code",
        "colab": {
          "base_uri": "https://localhost:8080/",
          "height": 51
        },
        "outputId": "6a11e0f6-a11a-4b75-c10b-7b5474e69e93"
      },
      "source": [
        "#9\n",
        "def prime(n):\n",
        "  count=0\n",
        "  for i in range(2,n+1):\n",
        "      if n%i==0:\n",
        "        count+=1\n",
        "  if count==1:\n",
        "      return \"prime\"\n",
        "  else:\n",
        "      return \"not a prime\"\n",
        "n=int(input(\"enter n\"))\n",
        "print(prime(n))"
      ],
      "execution_count": 28,
      "outputs": [
        {
          "output_type": "stream",
          "text": [
            "enter n5\n",
            "prime\n"
          ],
          "name": "stdout"
        }
      ]
    },
    {
      "cell_type": "code",
      "metadata": {
        "id": "Rh5ZUXLwmo-C",
        "colab_type": "code",
        "colab": {
          "base_uri": "https://localhost:8080/",
          "height": 51
        },
        "outputId": "13ccc4d2-101e-4a49-ba3c-3c32707e8ad2"
      },
      "source": [
        "#10\n",
        "n = int(input(\"enter a number\"))#12\n",
        "if int(str(n**2)[::-1]) == int(str(n)[::-1])**2:\n",
        "    print(\"Adam number\")\n",
        "else:\n",
        "    print(\"Not an Adam Number\")\n"
      ],
      "execution_count": 18,
      "outputs": [
        {
          "output_type": "stream",
          "text": [
            "enter a number12\n",
            "Adam number\n"
          ],
          "name": "stdout"
        }
      ]
    },
    {
      "cell_type": "code",
      "metadata": {
        "id": "nBkJwjUao_4t",
        "colab_type": "code",
        "colab": {}
      },
      "source": [
        ""
      ],
      "execution_count": 0,
      "outputs": []
    }
  ]
}