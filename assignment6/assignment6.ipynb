{
  "nbformat": 4,
  "nbformat_minor": 0,
  "metadata": {
    "colab": {
      "name": "assignment6.ipynb",
      "provenance": []
    },
    "kernelspec": {
      "name": "python3",
      "display_name": "Python 3"
    }
  },
  "cells": [
    {
      "cell_type": "code",
      "metadata": {
        "id": "IurG0lG_NaZr",
        "colab_type": "code",
        "colab": {
          "base_uri": "https://localhost:8080/",
          "height": 221
        },
        "outputId": "76a855cd-e467-41b4-a3b6-5eb4182e00f4"
      },
      "source": [
        "import random\n",
        "lives=9\n",
        "words = ['pistaa','fairy','teeth','shirt','otter','plane']\n",
        "secretword=random.choice(words)\n",
        "clue=list('?????')\n",
        "heart_symbol= u'\\u2764'\n",
        "guessed_word_correctly=False\n",
        "def update_clue(guessed_letter, secretword,clue):\n",
        "    index=0\n",
        "    while index < len(secretword):\n",
        "        if guessed_letter == secretword[index]:\n",
        "            clue[index]=guessed_letter\n",
        "            index=index+1\n",
        "while lives>0:\n",
        "    print(clue)\n",
        "    print('Lives left:' + heart_symbol * lives)\n",
        "    guess = input('Guess a letter or the word:')\n",
        "    if guess == secretword:\n",
        "        guessed_word_correctly= True\n",
        "        break\n",
        "    if guess in secretword:\n",
        "        update_clue(guess,secretword, clue)\n",
        "    else:\n",
        "        print('Incorrect. You lose a life.')\n",
        "    lives= lives-1\n",
        "if guessed_word_correctly:\n",
        "    print('You guessed correctly! The secret word was' + secretword)\n",
        "else:\n",
        "    print('You lost! The secret word was ' + secretword)"
      ],
      "execution_count": 2,
      "outputs": [
        {
          "output_type": "stream",
          "text": [
            "['?', '?', '?', '?', '?']\n",
            "Lives left:❤❤❤❤❤❤❤❤❤\n",
            "Guess a letter or the word:hello\n",
            "Incorrect. You lose a life.\n",
            "['?', '?', '?', '?', '?']\n",
            "Lives left:❤❤❤❤❤❤❤❤\n",
            "Guess a letter or the word:plane\n",
            "Incorrect. You lose a life.\n",
            "['?', '?', '?', '?', '?']\n",
            "Lives left:❤❤❤❤❤❤❤\n",
            "Guess a letter or the word:otter\n",
            "You guessed correctly! The secret word wasotter\n"
          ],
          "name": "stdout"
        }
      ]
    },
    {
      "cell_type": "code",
      "metadata": {
        "id": "waDUoHqnRwgG",
        "colab_type": "code",
        "colab": {}
      },
      "source": [
        ""
      ],
      "execution_count": 0,
      "outputs": []
    }
  ]
}