{
  "nbformat": 4,
  "nbformat_minor": 0,
  "metadata": {
    "colab": {
      "name": "assignment-2",
      "provenance": []
    },
    "kernelspec": {
      "name": "python3",
      "display_name": "Python 3"
    }
  },
  "cells": [
    {
      "cell_type": "code",
      "metadata": {
        "id": "gK44qDqoZiyR",
        "colab_type": "code",
        "outputId": "17affc4e-601d-4604-e479-0b24afc92f5f",
        "colab": {
          "base_uri": "https://localhost:8080/",
          "height": 85
        }
      },
      "source": [
        "#1.Accept a string from the user and count no.of vowels,consonants and special characters\n",
        "str1 = input(\"Please Enter Your Own String : \")\n",
        "vowels = 0\n",
        "consonants = 0\n",
        "special = 0\n",
        "\n",
        "for i in str1:\n",
        "    if ( (i >= 'a' and i <= 'z') or (i >= 'A' and i <= 'Z') ):\n",
        "        if(i == 'a' or i == 'e' or i == 'i' or i == 'o' or i == 'u'or i == 'A' or i == 'E' or i == 'I' or i == 'O' or i == 'U'):\n",
        "            vowels = vowels + 1\n",
        "        else:\n",
        "            consonants = consonants + 1\n",
        "    else:\n",
        "        special = special + 1\n",
        " \n",
        "print(\"Total Number of Vowels in this String = \", vowels)\n",
        "print(\"Total Number of Consonants in this String = \", consonants)\n",
        "print(\"Total Number of special in this String = \", special)\n",
        "\n"
      ],
      "execution_count": 0,
      "outputs": [
        {
          "output_type": "stream",
          "text": [
            "Please Enter Your Own String : abc@123\n",
            "Total Number of Vowels in this String =  1\n",
            "Total Number of Consonants in this String =  2\n",
            "Total Number of special in this String =  4\n"
          ],
          "name": "stdout"
        }
      ]
    },
    {
      "cell_type": "code",
      "metadata": {
        "id": "x_LrKHpMaSR1",
        "colab_type": "code",
        "outputId": "c141c3a1-bc56-4f4c-ff32-91239eedf8c1",
        "colab": {
          "base_uri": "https://localhost:8080/",
          "height": 34
        }
      },
      "source": [
        "#2)count the no.of pairs of a in the given string\n",
        "str=\"abbaaccbbaaa\"\n",
        "print(str.count(\"aa\"))\n",
        "\n"
      ],
      "execution_count": 0,
      "outputs": [
        {
          "output_type": "stream",
          "text": [
            "2\n"
          ],
          "name": "stdout"
        }
      ]
    },
    {
      "cell_type": "code",
      "metadata": {
        "id": "hY1mQm-maSfb",
        "colab_type": "code",
        "colab": {
          "base_uri": "https://localhost:8080/",
          "height": 51
        },
        "outputId": "c8b04d14-374a-4ac1-dd4e-331dac1b3967"
      },
      "source": [
        "#3\n",
        "str1=input(\"enter\")\n",
        "print(str1.count(\")\"))\n"
      ],
      "execution_count": 16,
      "outputs": [
        {
          "output_type": "stream",
          "text": [
            "enter((())())\n",
            "4\n"
          ],
          "name": "stdout"
        }
      ]
    },
    {
      "cell_type": "code",
      "metadata": {
        "id": "jmeVDgabaSrv",
        "colab_type": "code",
        "outputId": "1f7a6991-747d-4976-d47d-5afb5799f7b2",
        "colab": {
          "base_uri": "https://localhost:8080/",
          "height": 68
        }
      },
      "source": [
        "#4. Read the input as two limits and Print the output as Palindrome count between the two limits\n",
        "count = 0\n",
        "n = int(input(\"enter a value n:\"))\n",
        "m = int(input(\"enter a value m:\"))\n",
        "for i in range(n,m):\n",
        "    if str(i) == str(i)[::-1]:\n",
        "        count += 1\n",
        "print(count)\n"
      ],
      "execution_count": 28,
      "outputs": [
        {
          "output_type": "stream",
          "text": [
            "enter a value n:23\n",
            "enter a value m:22\n",
            "0\n"
          ],
          "name": "stdout"
        }
      ]
    },
    {
      "cell_type": "code",
      "metadata": {
        "id": "TVdll61GaS9c",
        "colab_type": "code",
        "colab": {}
      },
      "source": [
        "#5.Accept a number as an input and check whether the given number is palindrome or not\n",
        "#a if it is a palindrome number print the number on the screen\n",
        "\n",
        "n = int(input(\"enter a number\"))\n",
        "if str8(n) == str8(n)[::-1]:\n",
        "    print(\"the given string is palindrome\")\n",
        "else:\n",
        "    print(\"The given string is not palindrome\")\n"
      ],
      "execution_count": 0,
      "outputs": []
    },
    {
      "cell_type": "code",
      "metadata": {
        "id": "5U7fquYXdaiQ",
        "colab_type": "code",
        "colab": {}
      },
      "source": [
        "#b if it is not a palindrome number reverse that number and add it to previous number repeat this until will get a palindrome number and print that palindrome number on the screen\n",
        "def rev_number(n):\n",
        "  s = 0\n",
        "  while True:\n",
        "    k = str(n)\n",
        "    if k == k[::-1]:\n",
        "      break\n",
        "    else:\n",
        "      m = int(k[::-1])\n",
        "      n += m\n",
        "      s += 1\n",
        "  return n \n",
        "print(rev_number(127))\n"
      ],
      "execution_count": 0,
      "outputs": []
    },
    {
      "cell_type": "code",
      "metadata": {
        "id": "nOwvqj0maTKH",
        "colab_type": "code",
        "colab": {}
      },
      "source": [
        "#6\n",
        "s= str(input('enter string'))\n",
        "vowel=['a','e','i','o','u']\n",
        "for i in s:\n",
        "    if i in vowel:\n",
        "        print(chr(ord(i)+1),end='')\n",
        "    elif (ord(i)>65 and ord(i)<69) or(ord(i)>97 and ord(i)<101):\n",
        "        print('e',end='')\n",
        "    elif (ord(i)>69 and ord(i)<73) or(ord(i)>101 and ord(i)<105):\n",
        "        print('i',end='')\n",
        "    elif (ord(i)>73 and ord(i)<79) or(ord(i)>105 and ord(i)<111):\n",
        "        print('o',end='')    \n",
        "    elif (ord(i)>79 and ord(i)<85) or(ord(i)>111 and ord(i)<117):\n",
        "        print('u',end='')\n",
        "    elif (ord(i)>85 and ord(i)<90) or(odr(i)>117 and ord(i)<122):\n",
        "        print('a',end='')\n"
      ],
      "execution_count": 0,
      "outputs": []
    },
    {
      "cell_type": "code",
      "metadata": {
        "id": "Q0sBoCzgaTog",
        "colab_type": "code",
        "outputId": "c5fc6136-3205-4f45-be04-8d61efc1e980",
        "colab": {
          "base_uri": "https://localhost:8080/",
          "height": 34
        }
      },
      "source": [
        "#7. Accept input as a string and display sum of digits as the output\n",
        "def sum_digits_string(str1):\n",
        "    sum_digit = 0\n",
        "    for x in str1:\n",
        "        if x.isdigit() == True:\n",
        "            z = int(x)\n",
        "            sum_digit = sum_digit + z\n",
        "\n",
        "    return sum_digit\n",
        "     \n",
        "print(sum_digits_string(\"Appli123cation456 \"))\n",
        "\n"
      ],
      "execution_count": 0,
      "outputs": [
        {
          "output_type": "stream",
          "text": [
            "21\n"
          ],
          "name": "stdout"
        }
      ]
    },
    {
      "cell_type": "code",
      "metadata": {
        "id": "aPgfoXtiaVFP",
        "colab_type": "code",
        "colab": {
          "base_uri": "https://localhost:8080/",
          "height": 51
        },
        "outputId": "fca703a1-3130-4b8e-cad0-a84a5c40ad73"
      },
      "source": [
        "#8\n",
        "score = float(input(\"Enter score between 0.0 and 1.0: \"))\n",
        "if score>1.0 or score<0.0 :\n",
        "\tprint('error')\n",
        "elif score>=0.9 :\n",
        "  \tprint('A')\n",
        "elif score>=0.8 :\n",
        "    print('B')\n",
        "elif score>=0.7 :\n",
        "    print('C')\n",
        "elif score>=0.6 :\n",
        "    print('D')\n",
        "else :\n",
        "    print('F')\n"
      ],
      "execution_count": 27,
      "outputs": [
        {
          "output_type": "stream",
          "text": [
            "Enter score between 0.0 and 1.0: 0.6\n",
            "D\n"
          ],
          "name": "stdout"
        }
      ]
    },
    {
      "cell_type": "code",
      "metadata": {
        "id": "ROrsA3sQaVPz",
        "colab_type": "code",
        "colab": {
          "base_uri": "https://localhost:8080/",
          "height": 884
        },
        "outputId": "1d633ea7-7e66-42d2-eb82-37ab14d79a31"
      },
      "source": [
        "#9. Write a Python program which iterates the integers from 1 to 50. For multiples of three print \"Fizz\" instead of the number and for the multiples of five print \"Buzz\". For numbers which are multiples of both three and five print \"FizzBuzz\".\n",
        "for fizzbuzz in range(51):\n",
        "    if fizzbuzz % 3 == 0 and fizzbuzz % 5 == 0:\n",
        "        print(\"fizzbuzz\")\n",
        "        continue\n",
        "    elif fizzbuzz % 3 == 0:\n",
        "        print(\"fizz\")\n",
        "        continue\n",
        "    elif fizzbuzz % 5 == 0:\n",
        "        print(\"buzz\")\n",
        "        continue\n",
        "    print(fizzbuzz)\n"
      ],
      "execution_count": 9,
      "outputs": [
        {
          "output_type": "stream",
          "text": [
            "fizzbuzz\n",
            "1\n",
            "2\n",
            "fizz\n",
            "4\n",
            "buzz\n",
            "fizz\n",
            "7\n",
            "8\n",
            "fizz\n",
            "buzz\n",
            "11\n",
            "fizz\n",
            "13\n",
            "14\n",
            "fizzbuzz\n",
            "16\n",
            "17\n",
            "fizz\n",
            "19\n",
            "buzz\n",
            "fizz\n",
            "22\n",
            "23\n",
            "fizz\n",
            "buzz\n",
            "26\n",
            "fizz\n",
            "28\n",
            "29\n",
            "fizzbuzz\n",
            "31\n",
            "32\n",
            "fizz\n",
            "34\n",
            "buzz\n",
            "fizz\n",
            "37\n",
            "38\n",
            "fizz\n",
            "buzz\n",
            "41\n",
            "fizz\n",
            "43\n",
            "44\n",
            "fizzbuzz\n",
            "46\n",
            "47\n",
            "fizz\n",
            "49\n",
            "buzz\n"
          ],
          "name": "stdout"
        }
      ]
    },
    {
      "cell_type": "code",
      "metadata": {
        "id": "iLZ87eb8aVaz",
        "colab_type": "code",
        "outputId": "f2c91da5-f80a-4bb4-a074-6b8008ab916c",
        "colab": {
          "base_uri": "https://localhost:8080/",
          "height": 85
        }
      },
      "source": [
        "#10.Write a Python program to find the median of three values.\n",
        "a = float(input(\"Input first number: \"))\n",
        "b = float(input(\"Input second number: \"))\n",
        "c = float(input(\"Input third number: \"))\n",
        "if a > b:\n",
        "    if a < c:\n",
        "        median = a\n",
        "    elif b > c:\n",
        "        median = b\n",
        "    else:\n",
        "        median = c\n",
        "else:\n",
        "    if a > c:\n",
        "        median = a\n",
        "    elif b < c:\n",
        "        median = b\n",
        "    else:\n",
        "        median = c\n",
        "\n",
        "print(\"The median is\", median)\n"
      ],
      "execution_count": 0,
      "outputs": [
        {
          "output_type": "stream",
          "text": [
            "Input first number: 29\n",
            "Input second number: 17\n",
            "Input third number: 29\n",
            "The median is 29.0\n"
          ],
          "name": "stdout"
        }
      ]
    },
    {
      "cell_type": "code",
      "metadata": {
        "id": "a947UKdx0bfm",
        "colab_type": "code",
        "colab": {}
      },
      "source": [
        ""
      ],
      "execution_count": 0,
      "outputs": []
    }
  ]
}